{
 "cells": [
  {
   "cell_type": "markdown",
   "metadata": {},
   "source": [
    "# Preprocess and Feature Extraction - Flavia dataset\n",
    "\n",
    "Extracted features are saved in file named \"Flavia_features.csv\""
   ]
  },
  {
   "cell_type": "code",
   "execution_count": 1,
   "metadata": {},
   "outputs": [],
   "source": [
    "import os\n",
    "import cv2\n",
    "import numpy as np\n",
    "import pandas as pd\n",
    "import mahotas as mt\n",
    "import h5py\n",
    "from matplotlib import pyplot as plt\n",
    "%matplotlib inline"
   ]
  },
  {
   "cell_type": "code",
   "execution_count": 5,
   "metadata": {},
   "outputs": [],
   "source": [
    "ds_path = \"data_disease\"\n",
    "img_files = os.listdir(ds_path)"
   ]
  },
  {
   "cell_type": "code",
   "execution_count": 6,
   "metadata": {},
   "outputs": [],
   "source": [
    "\n",
    "def create_dataset():\n",
    "    names = ['mean_r','mean_g','mean_b','stddev_r','stddev_g','stddev_b', \\\n",
    "             'contrast','correlation','inverse_difference_moments','entropy'\n",
    "            ]\n",
    "    df = pd.DataFrame([], columns=names)\n",
    "    for file in img_files:\n",
    "        imgpath = ds_path + \"\\\\\" + file\n",
    "        main_img = cv2.imread(imgpath)\n",
    "        \n",
    "        #Preprocessing\n",
    "        img = cv2.cvtColor(main_img, cv2.COLOR_BGR2RGB)\n",
    "        gs = cv2.cvtColor(img,cv2.COLOR_RGB2GRAY)\n",
    "        blur = cv2.GaussianBlur(gs, (25,25),0)\n",
    "        ret_otsu,im_bw_otsu = cv2.threshold(blur,0,255,cv2.THRESH_BINARY_INV+cv2.THRESH_OTSU)\n",
    "        kernel = np.ones((50,50),np.uint8)\n",
    "        closing = cv2.morphologyEx(im_bw_otsu, cv2.MORPH_CLOSE, kernel)\n",
    "        \n",
    "        #Color features\n",
    "        red_channel = img[:,:,0]\n",
    "        green_channel = img[:,:,1]\n",
    "        blue_channel = img[:,:,2]\n",
    "        blue_channel[blue_channel == 255] = 0\n",
    "        green_channel[green_channel == 255] = 0\n",
    "        red_channel[red_channel == 255] = 0\n",
    "        \n",
    "        red_mean = np.mean(red_channel)\n",
    "        green_mean = np.mean(green_channel)\n",
    "        blue_mean = np.mean(blue_channel)\n",
    "        \n",
    "        red_std = np.std(red_channel)\n",
    "        green_std = np.std(green_channel)\n",
    "        blue_std = np.std(blue_channel)\n",
    "        \n",
    "        #Texture features\n",
    "        textures = mt.features.haralick(gs)\n",
    "        ht_mean = textures.mean(axis=0)\n",
    "        contrast = ht_mean[1]\n",
    "        correlation = ht_mean[2]\n",
    "        inverse_diff_moments = ht_mean[4]\n",
    "        entropy = ht_mean[8]\n",
    "        \n",
    "        vector = [red_mean,green_mean,blue_mean,red_std,green_std,blue_std,\\\n",
    "                  contrast,correlation,inverse_diff_moments,entropy\n",
    "                 ]\n",
    "        \n",
    "        df_temp = pd.DataFrame([vector],columns=names)\n",
    "        df = df.append(df_temp)\n",
    "        print(file)\n",
    "    return df"
   ]
  },
  {
   "cell_type": "code",
   "execution_count": 7,
   "metadata": {},
   "outputs": [
    {
     "name": "stderr",
     "output_type": "stream",
     "text": [
      "C:\\Users\\Yogesh\\AppData\\Local\\Temp\\ipykernel_4204\\2996257243.py:47: FutureWarning: The frame.append method is deprecated and will be removed from pandas in a future version. Use pandas.concat instead.\n",
      "  df = df.append(df_temp)\n",
      "C:\\Users\\Yogesh\\AppData\\Local\\Temp\\ipykernel_4204\\2996257243.py:47: FutureWarning: The frame.append method is deprecated and will be removed from pandas in a future version. Use pandas.concat instead.\n",
      "  df = df.append(df_temp)\n",
      "C:\\Users\\Yogesh\\AppData\\Local\\Temp\\ipykernel_4204\\2996257243.py:47: FutureWarning: The frame.append method is deprecated and will be removed from pandas in a future version. Use pandas.concat instead.\n",
      "  df = df.append(df_temp)\n",
      "C:\\Users\\Yogesh\\AppData\\Local\\Temp\\ipykernel_4204\\2996257243.py:47: FutureWarning: The frame.append method is deprecated and will be removed from pandas in a future version. Use pandas.concat instead.\n",
      "  df = df.append(df_temp)\n",
      "C:\\Users\\Yogesh\\AppData\\Local\\Temp\\ipykernel_4204\\2996257243.py:47: FutureWarning: The frame.append method is deprecated and will be removed from pandas in a future version. Use pandas.concat instead.\n",
      "  df = df.append(df_temp)\n",
      "C:\\Users\\Yogesh\\AppData\\Local\\Temp\\ipykernel_4204\\2996257243.py:47: FutureWarning: The frame.append method is deprecated and will be removed from pandas in a future version. Use pandas.concat instead.\n",
      "  df = df.append(df_temp)\n"
     ]
    },
    {
     "name": "stdout",
     "output_type": "stream",
     "text": [
      "1001.JPG\n",
      "1002.JPG\n",
      "1003.JPG\n",
      "1004.JPG\n",
      "1005.JPG\n",
      "1006.JPG\n",
      "1007.JPG\n",
      "1008.JPG\n",
      "1009.JPG\n",
      "1010.JPG\n"
     ]
    },
    {
     "name": "stderr",
     "output_type": "stream",
     "text": [
      "C:\\Users\\Yogesh\\AppData\\Local\\Temp\\ipykernel_4204\\2996257243.py:47: FutureWarning: The frame.append method is deprecated and will be removed from pandas in a future version. Use pandas.concat instead.\n",
      "  df = df.append(df_temp)\n",
      "C:\\Users\\Yogesh\\AppData\\Local\\Temp\\ipykernel_4204\\2996257243.py:47: FutureWarning: The frame.append method is deprecated and will be removed from pandas in a future version. Use pandas.concat instead.\n",
      "  df = df.append(df_temp)\n",
      "C:\\Users\\Yogesh\\AppData\\Local\\Temp\\ipykernel_4204\\2996257243.py:47: FutureWarning: The frame.append method is deprecated and will be removed from pandas in a future version. Use pandas.concat instead.\n",
      "  df = df.append(df_temp)\n",
      "C:\\Users\\Yogesh\\AppData\\Local\\Temp\\ipykernel_4204\\2996257243.py:47: FutureWarning: The frame.append method is deprecated and will be removed from pandas in a future version. Use pandas.concat instead.\n",
      "  df = df.append(df_temp)\n",
      "C:\\Users\\Yogesh\\AppData\\Local\\Temp\\ipykernel_4204\\2996257243.py:47: FutureWarning: The frame.append method is deprecated and will be removed from pandas in a future version. Use pandas.concat instead.\n",
      "  df = df.append(df_temp)\n",
      "C:\\Users\\Yogesh\\AppData\\Local\\Temp\\ipykernel_4204\\2996257243.py:47: FutureWarning: The frame.append method is deprecated and will be removed from pandas in a future version. Use pandas.concat instead.\n",
      "  df = df.append(df_temp)\n"
     ]
    },
    {
     "name": "stdout",
     "output_type": "stream",
     "text": [
      "1011.JPG\n",
      "1012.JPG\n",
      "1013.JPG\n",
      "1014.JPG\n",
      "1015.JPG\n",
      "1016.JPG\n"
     ]
    },
    {
     "name": "stderr",
     "output_type": "stream",
     "text": [
      "C:\\Users\\Yogesh\\AppData\\Local\\Temp\\ipykernel_4204\\2996257243.py:47: FutureWarning: The frame.append method is deprecated and will be removed from pandas in a future version. Use pandas.concat instead.\n",
      "  df = df.append(df_temp)\n",
      "C:\\Users\\Yogesh\\AppData\\Local\\Temp\\ipykernel_4204\\2996257243.py:47: FutureWarning: The frame.append method is deprecated and will be removed from pandas in a future version. Use pandas.concat instead.\n",
      "  df = df.append(df_temp)\n",
      "C:\\Users\\Yogesh\\AppData\\Local\\Temp\\ipykernel_4204\\2996257243.py:47: FutureWarning: The frame.append method is deprecated and will be removed from pandas in a future version. Use pandas.concat instead.\n",
      "  df = df.append(df_temp)\n",
      "C:\\Users\\Yogesh\\AppData\\Local\\Temp\\ipykernel_4204\\2996257243.py:47: FutureWarning: The frame.append method is deprecated and will be removed from pandas in a future version. Use pandas.concat instead.\n",
      "  df = df.append(df_temp)\n",
      "C:\\Users\\Yogesh\\AppData\\Local\\Temp\\ipykernel_4204\\2996257243.py:47: FutureWarning: The frame.append method is deprecated and will be removed from pandas in a future version. Use pandas.concat instead.\n",
      "  df = df.append(df_temp)\n",
      "C:\\Users\\Yogesh\\AppData\\Local\\Temp\\ipykernel_4204\\2996257243.py:47: FutureWarning: The frame.append method is deprecated and will be removed from pandas in a future version. Use pandas.concat instead.\n",
      "  df = df.append(df_temp)\n",
      "C:\\Users\\Yogesh\\AppData\\Local\\Temp\\ipykernel_4204\\2996257243.py:47: FutureWarning: The frame.append method is deprecated and will be removed from pandas in a future version. Use pandas.concat instead.\n",
      "  df = df.append(df_temp)\n"
     ]
    },
    {
     "name": "stdout",
     "output_type": "stream",
     "text": [
      "1017.JPG\n",
      "1018.JPG\n",
      "1019.JPG\n",
      "1020.JPG\n",
      "1021.JPG\n",
      "1022.JPG\n",
      "1023.JPG\n"
     ]
    },
    {
     "name": "stderr",
     "output_type": "stream",
     "text": [
      "C:\\Users\\Yogesh\\AppData\\Local\\Temp\\ipykernel_4204\\2996257243.py:47: FutureWarning: The frame.append method is deprecated and will be removed from pandas in a future version. Use pandas.concat instead.\n",
      "  df = df.append(df_temp)\n",
      "C:\\Users\\Yogesh\\AppData\\Local\\Temp\\ipykernel_4204\\2996257243.py:47: FutureWarning: The frame.append method is deprecated and will be removed from pandas in a future version. Use pandas.concat instead.\n",
      "  df = df.append(df_temp)\n",
      "C:\\Users\\Yogesh\\AppData\\Local\\Temp\\ipykernel_4204\\2996257243.py:47: FutureWarning: The frame.append method is deprecated and will be removed from pandas in a future version. Use pandas.concat instead.\n",
      "  df = df.append(df_temp)\n",
      "C:\\Users\\Yogesh\\AppData\\Local\\Temp\\ipykernel_4204\\2996257243.py:47: FutureWarning: The frame.append method is deprecated and will be removed from pandas in a future version. Use pandas.concat instead.\n",
      "  df = df.append(df_temp)\n",
      "C:\\Users\\Yogesh\\AppData\\Local\\Temp\\ipykernel_4204\\2996257243.py:47: FutureWarning: The frame.append method is deprecated and will be removed from pandas in a future version. Use pandas.concat instead.\n",
      "  df = df.append(df_temp)\n",
      "C:\\Users\\Yogesh\\AppData\\Local\\Temp\\ipykernel_4204\\2996257243.py:47: FutureWarning: The frame.append method is deprecated and will be removed from pandas in a future version. Use pandas.concat instead.\n",
      "  df = df.append(df_temp)\n"
     ]
    },
    {
     "name": "stdout",
     "output_type": "stream",
     "text": [
      "1024.JPG\n",
      "1025.JPG\n",
      "1026.JPG\n",
      "1027.JPG\n",
      "1028.JPG\n"
     ]
    },
    {
     "name": "stderr",
     "output_type": "stream",
     "text": [
      "C:\\Users\\Yogesh\\AppData\\Local\\Temp\\ipykernel_4204\\2996257243.py:47: FutureWarning: The frame.append method is deprecated and will be removed from pandas in a future version. Use pandas.concat instead.\n",
      "  df = df.append(df_temp)\n",
      "C:\\Users\\Yogesh\\AppData\\Local\\Temp\\ipykernel_4204\\2996257243.py:47: FutureWarning: The frame.append method is deprecated and will be removed from pandas in a future version. Use pandas.concat instead.\n",
      "  df = df.append(df_temp)\n",
      "C:\\Users\\Yogesh\\AppData\\Local\\Temp\\ipykernel_4204\\2996257243.py:47: FutureWarning: The frame.append method is deprecated and will be removed from pandas in a future version. Use pandas.concat instead.\n",
      "  df = df.append(df_temp)\n",
      "C:\\Users\\Yogesh\\AppData\\Local\\Temp\\ipykernel_4204\\2996257243.py:47: FutureWarning: The frame.append method is deprecated and will be removed from pandas in a future version. Use pandas.concat instead.\n",
      "  df = df.append(df_temp)\n",
      "C:\\Users\\Yogesh\\AppData\\Local\\Temp\\ipykernel_4204\\2996257243.py:47: FutureWarning: The frame.append method is deprecated and will be removed from pandas in a future version. Use pandas.concat instead.\n",
      "  df = df.append(df_temp)\n",
      "C:\\Users\\Yogesh\\AppData\\Local\\Temp\\ipykernel_4204\\2996257243.py:47: FutureWarning: The frame.append method is deprecated and will be removed from pandas in a future version. Use pandas.concat instead.\n",
      "  df = df.append(df_temp)\n"
     ]
    },
    {
     "name": "stdout",
     "output_type": "stream",
     "text": [
      "1029.JPG\n",
      "1030.JPG\n",
      "1031.JPG\n",
      "1032.JPG\n",
      "1033.JPG\n",
      "1034.JPG\n"
     ]
    },
    {
     "name": "stderr",
     "output_type": "stream",
     "text": [
      "C:\\Users\\Yogesh\\AppData\\Local\\Temp\\ipykernel_4204\\2996257243.py:47: FutureWarning: The frame.append method is deprecated and will be removed from pandas in a future version. Use pandas.concat instead.\n",
      "  df = df.append(df_temp)\n",
      "C:\\Users\\Yogesh\\AppData\\Local\\Temp\\ipykernel_4204\\2996257243.py:47: FutureWarning: The frame.append method is deprecated and will be removed from pandas in a future version. Use pandas.concat instead.\n",
      "  df = df.append(df_temp)\n",
      "C:\\Users\\Yogesh\\AppData\\Local\\Temp\\ipykernel_4204\\2996257243.py:47: FutureWarning: The frame.append method is deprecated and will be removed from pandas in a future version. Use pandas.concat instead.\n",
      "  df = df.append(df_temp)\n",
      "C:\\Users\\Yogesh\\AppData\\Local\\Temp\\ipykernel_4204\\2996257243.py:47: FutureWarning: The frame.append method is deprecated and will be removed from pandas in a future version. Use pandas.concat instead.\n",
      "  df = df.append(df_temp)\n",
      "C:\\Users\\Yogesh\\AppData\\Local\\Temp\\ipykernel_4204\\2996257243.py:47: FutureWarning: The frame.append method is deprecated and will be removed from pandas in a future version. Use pandas.concat instead.\n",
      "  df = df.append(df_temp)\n",
      "C:\\Users\\Yogesh\\AppData\\Local\\Temp\\ipykernel_4204\\2996257243.py:47: FutureWarning: The frame.append method is deprecated and will be removed from pandas in a future version. Use pandas.concat instead.\n",
      "  df = df.append(df_temp)\n"
     ]
    },
    {
     "name": "stdout",
     "output_type": "stream",
     "text": [
      "1035.JPG\n",
      "1036.JPG\n",
      "1037.JPG\n",
      "1038.JPG\n",
      "1039.JPG\n",
      "1040.JPG\n"
     ]
    },
    {
     "name": "stderr",
     "output_type": "stream",
     "text": [
      "C:\\Users\\Yogesh\\AppData\\Local\\Temp\\ipykernel_4204\\2996257243.py:47: FutureWarning: The frame.append method is deprecated and will be removed from pandas in a future version. Use pandas.concat instead.\n",
      "  df = df.append(df_temp)\n",
      "C:\\Users\\Yogesh\\AppData\\Local\\Temp\\ipykernel_4204\\2996257243.py:47: FutureWarning: The frame.append method is deprecated and will be removed from pandas in a future version. Use pandas.concat instead.\n",
      "  df = df.append(df_temp)\n",
      "C:\\Users\\Yogesh\\AppData\\Local\\Temp\\ipykernel_4204\\2996257243.py:47: FutureWarning: The frame.append method is deprecated and will be removed from pandas in a future version. Use pandas.concat instead.\n",
      "  df = df.append(df_temp)\n",
      "C:\\Users\\Yogesh\\AppData\\Local\\Temp\\ipykernel_4204\\2996257243.py:47: FutureWarning: The frame.append method is deprecated and will be removed from pandas in a future version. Use pandas.concat instead.\n",
      "  df = df.append(df_temp)\n",
      "C:\\Users\\Yogesh\\AppData\\Local\\Temp\\ipykernel_4204\\2996257243.py:47: FutureWarning: The frame.append method is deprecated and will be removed from pandas in a future version. Use pandas.concat instead.\n",
      "  df = df.append(df_temp)\n"
     ]
    },
    {
     "name": "stdout",
     "output_type": "stream",
     "text": [
      "1041.JPG\n",
      "1042.JPG\n",
      "1043.JPG\n",
      "1044.JPG\n",
      "1045.JPG\n",
      "1046.JPG\n"
     ]
    },
    {
     "name": "stderr",
     "output_type": "stream",
     "text": [
      "C:\\Users\\Yogesh\\AppData\\Local\\Temp\\ipykernel_4204\\2996257243.py:47: FutureWarning: The frame.append method is deprecated and will be removed from pandas in a future version. Use pandas.concat instead.\n",
      "  df = df.append(df_temp)\n",
      "C:\\Users\\Yogesh\\AppData\\Local\\Temp\\ipykernel_4204\\2996257243.py:47: FutureWarning: The frame.append method is deprecated and will be removed from pandas in a future version. Use pandas.concat instead.\n",
      "  df = df.append(df_temp)\n",
      "C:\\Users\\Yogesh\\AppData\\Local\\Temp\\ipykernel_4204\\2996257243.py:47: FutureWarning: The frame.append method is deprecated and will be removed from pandas in a future version. Use pandas.concat instead.\n",
      "  df = df.append(df_temp)\n",
      "C:\\Users\\Yogesh\\AppData\\Local\\Temp\\ipykernel_4204\\2996257243.py:47: FutureWarning: The frame.append method is deprecated and will be removed from pandas in a future version. Use pandas.concat instead.\n",
      "  df = df.append(df_temp)\n",
      "C:\\Users\\Yogesh\\AppData\\Local\\Temp\\ipykernel_4204\\2996257243.py:47: FutureWarning: The frame.append method is deprecated and will be removed from pandas in a future version. Use pandas.concat instead.\n",
      "  df = df.append(df_temp)\n",
      "C:\\Users\\Yogesh\\AppData\\Local\\Temp\\ipykernel_4204\\2996257243.py:47: FutureWarning: The frame.append method is deprecated and will be removed from pandas in a future version. Use pandas.concat instead.\n",
      "  df = df.append(df_temp)\n",
      "C:\\Users\\Yogesh\\AppData\\Local\\Temp\\ipykernel_4204\\2996257243.py:47: FutureWarning: The frame.append method is deprecated and will be removed from pandas in a future version. Use pandas.concat instead.\n",
      "  df = df.append(df_temp)\n"
     ]
    },
    {
     "name": "stdout",
     "output_type": "stream",
     "text": [
      "1047.JPG\n",
      "1048.JPG\n",
      "1049.JPG\n",
      "1050.JPG\n",
      "1051.JPG\n",
      "1052.JPG\n"
     ]
    },
    {
     "name": "stderr",
     "output_type": "stream",
     "text": [
      "C:\\Users\\Yogesh\\AppData\\Local\\Temp\\ipykernel_4204\\2996257243.py:47: FutureWarning: The frame.append method is deprecated and will be removed from pandas in a future version. Use pandas.concat instead.\n",
      "  df = df.append(df_temp)\n",
      "C:\\Users\\Yogesh\\AppData\\Local\\Temp\\ipykernel_4204\\2996257243.py:47: FutureWarning: The frame.append method is deprecated and will be removed from pandas in a future version. Use pandas.concat instead.\n",
      "  df = df.append(df_temp)\n",
      "C:\\Users\\Yogesh\\AppData\\Local\\Temp\\ipykernel_4204\\2996257243.py:47: FutureWarning: The frame.append method is deprecated and will be removed from pandas in a future version. Use pandas.concat instead.\n",
      "  df = df.append(df_temp)\n",
      "C:\\Users\\Yogesh\\AppData\\Local\\Temp\\ipykernel_4204\\2996257243.py:47: FutureWarning: The frame.append method is deprecated and will be removed from pandas in a future version. Use pandas.concat instead.\n",
      "  df = df.append(df_temp)\n",
      "C:\\Users\\Yogesh\\AppData\\Local\\Temp\\ipykernel_4204\\2996257243.py:47: FutureWarning: The frame.append method is deprecated and will be removed from pandas in a future version. Use pandas.concat instead.\n",
      "  df = df.append(df_temp)\n",
      "C:\\Users\\Yogesh\\AppData\\Local\\Temp\\ipykernel_4204\\2996257243.py:47: FutureWarning: The frame.append method is deprecated and will be removed from pandas in a future version. Use pandas.concat instead.\n",
      "  df = df.append(df_temp)\n"
     ]
    },
    {
     "name": "stdout",
     "output_type": "stream",
     "text": [
      "1053.JPG\n",
      "1054.JPG\n",
      "1055.JPG\n",
      "1056.JPG\n",
      "1057.JPG\n",
      "1058.JPG\n"
     ]
    },
    {
     "name": "stderr",
     "output_type": "stream",
     "text": [
      "C:\\Users\\Yogesh\\AppData\\Local\\Temp\\ipykernel_4204\\2996257243.py:47: FutureWarning: The frame.append method is deprecated and will be removed from pandas in a future version. Use pandas.concat instead.\n",
      "  df = df.append(df_temp)\n",
      "C:\\Users\\Yogesh\\AppData\\Local\\Temp\\ipykernel_4204\\2996257243.py:47: FutureWarning: The frame.append method is deprecated and will be removed from pandas in a future version. Use pandas.concat instead.\n",
      "  df = df.append(df_temp)\n",
      "C:\\Users\\Yogesh\\AppData\\Local\\Temp\\ipykernel_4204\\2996257243.py:47: FutureWarning: The frame.append method is deprecated and will be removed from pandas in a future version. Use pandas.concat instead.\n",
      "  df = df.append(df_temp)\n",
      "C:\\Users\\Yogesh\\AppData\\Local\\Temp\\ipykernel_4204\\2996257243.py:47: FutureWarning: The frame.append method is deprecated and will be removed from pandas in a future version. Use pandas.concat instead.\n",
      "  df = df.append(df_temp)\n",
      "C:\\Users\\Yogesh\\AppData\\Local\\Temp\\ipykernel_4204\\2996257243.py:47: FutureWarning: The frame.append method is deprecated and will be removed from pandas in a future version. Use pandas.concat instead.\n",
      "  df = df.append(df_temp)\n",
      "C:\\Users\\Yogesh\\AppData\\Local\\Temp\\ipykernel_4204\\2996257243.py:47: FutureWarning: The frame.append method is deprecated and will be removed from pandas in a future version. Use pandas.concat instead.\n",
      "  df = df.append(df_temp)\n"
     ]
    },
    {
     "name": "stdout",
     "output_type": "stream",
     "text": [
      "1059.JPG\n",
      "1060.JPG\n",
      "1061.JPG\n",
      "1062.JPG\n",
      "1063.JPG\n",
      "1064.JPG\n"
     ]
    },
    {
     "name": "stderr",
     "output_type": "stream",
     "text": [
      "C:\\Users\\Yogesh\\AppData\\Local\\Temp\\ipykernel_4204\\2996257243.py:47: FutureWarning: The frame.append method is deprecated and will be removed from pandas in a future version. Use pandas.concat instead.\n",
      "  df = df.append(df_temp)\n",
      "C:\\Users\\Yogesh\\AppData\\Local\\Temp\\ipykernel_4204\\2996257243.py:47: FutureWarning: The frame.append method is deprecated and will be removed from pandas in a future version. Use pandas.concat instead.\n",
      "  df = df.append(df_temp)\n",
      "C:\\Users\\Yogesh\\AppData\\Local\\Temp\\ipykernel_4204\\2996257243.py:47: FutureWarning: The frame.append method is deprecated and will be removed from pandas in a future version. Use pandas.concat instead.\n",
      "  df = df.append(df_temp)\n",
      "C:\\Users\\Yogesh\\AppData\\Local\\Temp\\ipykernel_4204\\2996257243.py:47: FutureWarning: The frame.append method is deprecated and will be removed from pandas in a future version. Use pandas.concat instead.\n",
      "  df = df.append(df_temp)\n",
      "C:\\Users\\Yogesh\\AppData\\Local\\Temp\\ipykernel_4204\\2996257243.py:47: FutureWarning: The frame.append method is deprecated and will be removed from pandas in a future version. Use pandas.concat instead.\n",
      "  df = df.append(df_temp)\n"
     ]
    },
    {
     "name": "stdout",
     "output_type": "stream",
     "text": [
      "1065.JPG\n",
      "1066.JPG\n",
      "1067.JPG\n",
      "1068.JPG\n"
     ]
    },
    {
     "name": "stderr",
     "output_type": "stream",
     "text": [
      "C:\\Users\\Yogesh\\AppData\\Local\\Temp\\ipykernel_4204\\2996257243.py:47: FutureWarning: The frame.append method is deprecated and will be removed from pandas in a future version. Use pandas.concat instead.\n",
      "  df = df.append(df_temp)\n",
      "C:\\Users\\Yogesh\\AppData\\Local\\Temp\\ipykernel_4204\\2996257243.py:47: FutureWarning: The frame.append method is deprecated and will be removed from pandas in a future version. Use pandas.concat instead.\n",
      "  df = df.append(df_temp)\n",
      "C:\\Users\\Yogesh\\AppData\\Local\\Temp\\ipykernel_4204\\2996257243.py:47: FutureWarning: The frame.append method is deprecated and will be removed from pandas in a future version. Use pandas.concat instead.\n",
      "  df = df.append(df_temp)\n",
      "C:\\Users\\Yogesh\\AppData\\Local\\Temp\\ipykernel_4204\\2996257243.py:47: FutureWarning: The frame.append method is deprecated and will be removed from pandas in a future version. Use pandas.concat instead.\n",
      "  df = df.append(df_temp)\n",
      "C:\\Users\\Yogesh\\AppData\\Local\\Temp\\ipykernel_4204\\2996257243.py:47: FutureWarning: The frame.append method is deprecated and will be removed from pandas in a future version. Use pandas.concat instead.\n",
      "  df = df.append(df_temp)\n"
     ]
    },
    {
     "name": "stdout",
     "output_type": "stream",
     "text": [
      "1069.JPG\n",
      "1070.JPG\n",
      "1071.JPG\n",
      "1072.JPG\n"
     ]
    },
    {
     "name": "stderr",
     "output_type": "stream",
     "text": [
      "C:\\Users\\Yogesh\\AppData\\Local\\Temp\\ipykernel_4204\\2996257243.py:47: FutureWarning: The frame.append method is deprecated and will be removed from pandas in a future version. Use pandas.concat instead.\n",
      "  df = df.append(df_temp)\n",
      "C:\\Users\\Yogesh\\AppData\\Local\\Temp\\ipykernel_4204\\2996257243.py:47: FutureWarning: The frame.append method is deprecated and will be removed from pandas in a future version. Use pandas.concat instead.\n",
      "  df = df.append(df_temp)\n",
      "C:\\Users\\Yogesh\\AppData\\Local\\Temp\\ipykernel_4204\\2996257243.py:47: FutureWarning: The frame.append method is deprecated and will be removed from pandas in a future version. Use pandas.concat instead.\n",
      "  df = df.append(df_temp)\n",
      "C:\\Users\\Yogesh\\AppData\\Local\\Temp\\ipykernel_4204\\2996257243.py:47: FutureWarning: The frame.append method is deprecated and will be removed from pandas in a future version. Use pandas.concat instead.\n",
      "  df = df.append(df_temp)\n"
     ]
    },
    {
     "name": "stdout",
     "output_type": "stream",
     "text": [
      "1073.JPG\n",
      "1074.JPG\n",
      "1075.JPG\n",
      "1076.JPG\n"
     ]
    },
    {
     "name": "stderr",
     "output_type": "stream",
     "text": [
      "C:\\Users\\Yogesh\\AppData\\Local\\Temp\\ipykernel_4204\\2996257243.py:47: FutureWarning: The frame.append method is deprecated and will be removed from pandas in a future version. Use pandas.concat instead.\n",
      "  df = df.append(df_temp)\n",
      "C:\\Users\\Yogesh\\AppData\\Local\\Temp\\ipykernel_4204\\2996257243.py:47: FutureWarning: The frame.append method is deprecated and will be removed from pandas in a future version. Use pandas.concat instead.\n",
      "  df = df.append(df_temp)\n",
      "C:\\Users\\Yogesh\\AppData\\Local\\Temp\\ipykernel_4204\\2996257243.py:47: FutureWarning: The frame.append method is deprecated and will be removed from pandas in a future version. Use pandas.concat instead.\n",
      "  df = df.append(df_temp)\n",
      "C:\\Users\\Yogesh\\AppData\\Local\\Temp\\ipykernel_4204\\2996257243.py:47: FutureWarning: The frame.append method is deprecated and will be removed from pandas in a future version. Use pandas.concat instead.\n",
      "  df = df.append(df_temp)\n",
      "C:\\Users\\Yogesh\\AppData\\Local\\Temp\\ipykernel_4204\\2996257243.py:47: FutureWarning: The frame.append method is deprecated and will be removed from pandas in a future version. Use pandas.concat instead.\n",
      "  df = df.append(df_temp)\n"
     ]
    },
    {
     "name": "stdout",
     "output_type": "stream",
     "text": [
      "1077.JPG\n",
      "1078.JPG\n",
      "1079.JPG\n",
      "1080.JPG\n",
      "1081.JPG\n"
     ]
    },
    {
     "name": "stderr",
     "output_type": "stream",
     "text": [
      "C:\\Users\\Yogesh\\AppData\\Local\\Temp\\ipykernel_4204\\2996257243.py:47: FutureWarning: The frame.append method is deprecated and will be removed from pandas in a future version. Use pandas.concat instead.\n",
      "  df = df.append(df_temp)\n",
      "C:\\Users\\Yogesh\\AppData\\Local\\Temp\\ipykernel_4204\\2996257243.py:47: FutureWarning: The frame.append method is deprecated and will be removed from pandas in a future version. Use pandas.concat instead.\n",
      "  df = df.append(df_temp)\n",
      "C:\\Users\\Yogesh\\AppData\\Local\\Temp\\ipykernel_4204\\2996257243.py:47: FutureWarning: The frame.append method is deprecated and will be removed from pandas in a future version. Use pandas.concat instead.\n",
      "  df = df.append(df_temp)\n",
      "C:\\Users\\Yogesh\\AppData\\Local\\Temp\\ipykernel_4204\\2996257243.py:47: FutureWarning: The frame.append method is deprecated and will be removed from pandas in a future version. Use pandas.concat instead.\n",
      "  df = df.append(df_temp)\n"
     ]
    },
    {
     "name": "stdout",
     "output_type": "stream",
     "text": [
      "1082.JPG\n",
      "1083.JPG\n",
      "1084.JPG\n",
      "1085.JPG\n",
      "1086.JPG\n"
     ]
    },
    {
     "name": "stderr",
     "output_type": "stream",
     "text": [
      "C:\\Users\\Yogesh\\AppData\\Local\\Temp\\ipykernel_4204\\2996257243.py:47: FutureWarning: The frame.append method is deprecated and will be removed from pandas in a future version. Use pandas.concat instead.\n",
      "  df = df.append(df_temp)\n",
      "C:\\Users\\Yogesh\\AppData\\Local\\Temp\\ipykernel_4204\\2996257243.py:47: FutureWarning: The frame.append method is deprecated and will be removed from pandas in a future version. Use pandas.concat instead.\n",
      "  df = df.append(df_temp)\n",
      "C:\\Users\\Yogesh\\AppData\\Local\\Temp\\ipykernel_4204\\2996257243.py:47: FutureWarning: The frame.append method is deprecated and will be removed from pandas in a future version. Use pandas.concat instead.\n",
      "  df = df.append(df_temp)\n",
      "C:\\Users\\Yogesh\\AppData\\Local\\Temp\\ipykernel_4204\\2996257243.py:47: FutureWarning: The frame.append method is deprecated and will be removed from pandas in a future version. Use pandas.concat instead.\n",
      "  df = df.append(df_temp)\n"
     ]
    },
    {
     "name": "stdout",
     "output_type": "stream",
     "text": [
      "1087.JPG\n",
      "1088.JPG\n",
      "1089.JPG\n",
      "1090.JPG\n",
      "1091.JPG\n"
     ]
    },
    {
     "name": "stderr",
     "output_type": "stream",
     "text": [
      "C:\\Users\\Yogesh\\AppData\\Local\\Temp\\ipykernel_4204\\2996257243.py:47: FutureWarning: The frame.append method is deprecated and will be removed from pandas in a future version. Use pandas.concat instead.\n",
      "  df = df.append(df_temp)\n",
      "C:\\Users\\Yogesh\\AppData\\Local\\Temp\\ipykernel_4204\\2996257243.py:47: FutureWarning: The frame.append method is deprecated and will be removed from pandas in a future version. Use pandas.concat instead.\n",
      "  df = df.append(df_temp)\n",
      "C:\\Users\\Yogesh\\AppData\\Local\\Temp\\ipykernel_4204\\2996257243.py:47: FutureWarning: The frame.append method is deprecated and will be removed from pandas in a future version. Use pandas.concat instead.\n",
      "  df = df.append(df_temp)\n",
      "C:\\Users\\Yogesh\\AppData\\Local\\Temp\\ipykernel_4204\\2996257243.py:47: FutureWarning: The frame.append method is deprecated and will be removed from pandas in a future version. Use pandas.concat instead.\n",
      "  df = df.append(df_temp)\n",
      "C:\\Users\\Yogesh\\AppData\\Local\\Temp\\ipykernel_4204\\2996257243.py:47: FutureWarning: The frame.append method is deprecated and will be removed from pandas in a future version. Use pandas.concat instead.\n",
      "  df = df.append(df_temp)\n"
     ]
    },
    {
     "name": "stdout",
     "output_type": "stream",
     "text": [
      "1092.JPG\n",
      "1093.JPG\n",
      "1094.JPG\n",
      "1095.JPG\n",
      "1096.JPG\n"
     ]
    },
    {
     "name": "stderr",
     "output_type": "stream",
     "text": [
      "C:\\Users\\Yogesh\\AppData\\Local\\Temp\\ipykernel_4204\\2996257243.py:47: FutureWarning: The frame.append method is deprecated and will be removed from pandas in a future version. Use pandas.concat instead.\n",
      "  df = df.append(df_temp)\n",
      "C:\\Users\\Yogesh\\AppData\\Local\\Temp\\ipykernel_4204\\2996257243.py:47: FutureWarning: The frame.append method is deprecated and will be removed from pandas in a future version. Use pandas.concat instead.\n",
      "  df = df.append(df_temp)\n",
      "C:\\Users\\Yogesh\\AppData\\Local\\Temp\\ipykernel_4204\\2996257243.py:47: FutureWarning: The frame.append method is deprecated and will be removed from pandas in a future version. Use pandas.concat instead.\n",
      "  df = df.append(df_temp)\n",
      "C:\\Users\\Yogesh\\AppData\\Local\\Temp\\ipykernel_4204\\2996257243.py:47: FutureWarning: The frame.append method is deprecated and will be removed from pandas in a future version. Use pandas.concat instead.\n",
      "  df = df.append(df_temp)\n",
      "C:\\Users\\Yogesh\\AppData\\Local\\Temp\\ipykernel_4204\\2996257243.py:47: FutureWarning: The frame.append method is deprecated and will be removed from pandas in a future version. Use pandas.concat instead.\n",
      "  df = df.append(df_temp)\n",
      "C:\\Users\\Yogesh\\AppData\\Local\\Temp\\ipykernel_4204\\2996257243.py:47: FutureWarning: The frame.append method is deprecated and will be removed from pandas in a future version. Use pandas.concat instead.\n",
      "  df = df.append(df_temp)\n"
     ]
    },
    {
     "name": "stdout",
     "output_type": "stream",
     "text": [
      "1097.JPG\n",
      "1098.JPG\n",
      "1099.JPG\n",
      "1100.JPG\n",
      "1101.JPG\n"
     ]
    },
    {
     "name": "stderr",
     "output_type": "stream",
     "text": [
      "C:\\Users\\Yogesh\\AppData\\Local\\Temp\\ipykernel_4204\\2996257243.py:47: FutureWarning: The frame.append method is deprecated and will be removed from pandas in a future version. Use pandas.concat instead.\n",
      "  df = df.append(df_temp)\n",
      "C:\\Users\\Yogesh\\AppData\\Local\\Temp\\ipykernel_4204\\2996257243.py:47: FutureWarning: The frame.append method is deprecated and will be removed from pandas in a future version. Use pandas.concat instead.\n",
      "  df = df.append(df_temp)\n",
      "C:\\Users\\Yogesh\\AppData\\Local\\Temp\\ipykernel_4204\\2996257243.py:47: FutureWarning: The frame.append method is deprecated and will be removed from pandas in a future version. Use pandas.concat instead.\n",
      "  df = df.append(df_temp)\n",
      "C:\\Users\\Yogesh\\AppData\\Local\\Temp\\ipykernel_4204\\2996257243.py:47: FutureWarning: The frame.append method is deprecated and will be removed from pandas in a future version. Use pandas.concat instead.\n",
      "  df = df.append(df_temp)\n"
     ]
    },
    {
     "name": "stdout",
     "output_type": "stream",
     "text": [
      "1102.JPG\n",
      "1103.JPG\n",
      "1104.JPG\n",
      "1105.JPG\n"
     ]
    },
    {
     "name": "stderr",
     "output_type": "stream",
     "text": [
      "C:\\Users\\Yogesh\\AppData\\Local\\Temp\\ipykernel_4204\\2996257243.py:47: FutureWarning: The frame.append method is deprecated and will be removed from pandas in a future version. Use pandas.concat instead.\n",
      "  df = df.append(df_temp)\n",
      "C:\\Users\\Yogesh\\AppData\\Local\\Temp\\ipykernel_4204\\2996257243.py:47: FutureWarning: The frame.append method is deprecated and will be removed from pandas in a future version. Use pandas.concat instead.\n",
      "  df = df.append(df_temp)\n",
      "C:\\Users\\Yogesh\\AppData\\Local\\Temp\\ipykernel_4204\\2996257243.py:47: FutureWarning: The frame.append method is deprecated and will be removed from pandas in a future version. Use pandas.concat instead.\n",
      "  df = df.append(df_temp)\n",
      "C:\\Users\\Yogesh\\AppData\\Local\\Temp\\ipykernel_4204\\2996257243.py:47: FutureWarning: The frame.append method is deprecated and will be removed from pandas in a future version. Use pandas.concat instead.\n",
      "  df = df.append(df_temp)\n"
     ]
    },
    {
     "name": "stdout",
     "output_type": "stream",
     "text": [
      "1106.JPG\n",
      "1107.JPG\n",
      "1108.JPG\n",
      "1109.JPG\n",
      "1110.JPG"
     ]
    },
    {
     "name": "stderr",
     "output_type": "stream",
     "text": [
      "C:\\Users\\Yogesh\\AppData\\Local\\Temp\\ipykernel_4204\\2996257243.py:47: FutureWarning: The frame.append method is deprecated and will be removed from pandas in a future version. Use pandas.concat instead.\n",
      "  df = df.append(df_temp)\n",
      "C:\\Users\\Yogesh\\AppData\\Local\\Temp\\ipykernel_4204\\2996257243.py:47: FutureWarning: The frame.append method is deprecated and will be removed from pandas in a future version. Use pandas.concat instead.\n",
      "  df = df.append(df_temp)\n",
      "C:\\Users\\Yogesh\\AppData\\Local\\Temp\\ipykernel_4204\\2996257243.py:47: FutureWarning: The frame.append method is deprecated and will be removed from pandas in a future version. Use pandas.concat instead.\n",
      "  df = df.append(df_temp)\n",
      "C:\\Users\\Yogesh\\AppData\\Local\\Temp\\ipykernel_4204\\2996257243.py:47: FutureWarning: The frame.append method is deprecated and will be removed from pandas in a future version. Use pandas.concat instead.\n",
      "  df = df.append(df_temp)\n",
      "C:\\Users\\Yogesh\\AppData\\Local\\Temp\\ipykernel_4204\\2996257243.py:47: FutureWarning: The frame.append method is deprecated and will be removed from pandas in a future version. Use pandas.concat instead.\n",
      "  df = df.append(df_temp)\n"
     ]
    },
    {
     "name": "stdout",
     "output_type": "stream",
     "text": [
      "\n",
      "1111.JPG\n",
      "1112.JPG\n",
      "1113.JPG\n",
      "1114.JPG\n"
     ]
    },
    {
     "name": "stderr",
     "output_type": "stream",
     "text": [
      "C:\\Users\\Yogesh\\AppData\\Local\\Temp\\ipykernel_4204\\2996257243.py:47: FutureWarning: The frame.append method is deprecated and will be removed from pandas in a future version. Use pandas.concat instead.\n",
      "  df = df.append(df_temp)\n",
      "C:\\Users\\Yogesh\\AppData\\Local\\Temp\\ipykernel_4204\\2996257243.py:47: FutureWarning: The frame.append method is deprecated and will be removed from pandas in a future version. Use pandas.concat instead.\n",
      "  df = df.append(df_temp)\n",
      "C:\\Users\\Yogesh\\AppData\\Local\\Temp\\ipykernel_4204\\2996257243.py:47: FutureWarning: The frame.append method is deprecated and will be removed from pandas in a future version. Use pandas.concat instead.\n",
      "  df = df.append(df_temp)\n",
      "C:\\Users\\Yogesh\\AppData\\Local\\Temp\\ipykernel_4204\\2996257243.py:47: FutureWarning: The frame.append method is deprecated and will be removed from pandas in a future version. Use pandas.concat instead.\n",
      "  df = df.append(df_temp)\n",
      "C:\\Users\\Yogesh\\AppData\\Local\\Temp\\ipykernel_4204\\2996257243.py:47: FutureWarning: The frame.append method is deprecated and will be removed from pandas in a future version. Use pandas.concat instead.\n",
      "  df = df.append(df_temp)\n"
     ]
    },
    {
     "name": "stdout",
     "output_type": "stream",
     "text": [
      "1115.JPG\n",
      "1116.JPG\n",
      "1117.JPG\n",
      "1118.JPG\n"
     ]
    },
    {
     "name": "stderr",
     "output_type": "stream",
     "text": [
      "C:\\Users\\Yogesh\\AppData\\Local\\Temp\\ipykernel_4204\\2996257243.py:47: FutureWarning: The frame.append method is deprecated and will be removed from pandas in a future version. Use pandas.concat instead.\n",
      "  df = df.append(df_temp)\n",
      "C:\\Users\\Yogesh\\AppData\\Local\\Temp\\ipykernel_4204\\2996257243.py:47: FutureWarning: The frame.append method is deprecated and will be removed from pandas in a future version. Use pandas.concat instead.\n",
      "  df = df.append(df_temp)\n",
      "C:\\Users\\Yogesh\\AppData\\Local\\Temp\\ipykernel_4204\\2996257243.py:47: FutureWarning: The frame.append method is deprecated and will be removed from pandas in a future version. Use pandas.concat instead.\n",
      "  df = df.append(df_temp)\n",
      "C:\\Users\\Yogesh\\AppData\\Local\\Temp\\ipykernel_4204\\2996257243.py:47: FutureWarning: The frame.append method is deprecated and will be removed from pandas in a future version. Use pandas.concat instead.\n",
      "  df = df.append(df_temp)\n"
     ]
    },
    {
     "name": "stdout",
     "output_type": "stream",
     "text": [
      "1119.JPG\n",
      "1120.JPG\n",
      "1121.JPG\n",
      "1122.JPG\n"
     ]
    },
    {
     "name": "stderr",
     "output_type": "stream",
     "text": [
      "C:\\Users\\Yogesh\\AppData\\Local\\Temp\\ipykernel_4204\\2996257243.py:47: FutureWarning: The frame.append method is deprecated and will be removed from pandas in a future version. Use pandas.concat instead.\n",
      "  df = df.append(df_temp)\n",
      "C:\\Users\\Yogesh\\AppData\\Local\\Temp\\ipykernel_4204\\2996257243.py:47: FutureWarning: The frame.append method is deprecated and will be removed from pandas in a future version. Use pandas.concat instead.\n",
      "  df = df.append(df_temp)\n",
      "C:\\Users\\Yogesh\\AppData\\Local\\Temp\\ipykernel_4204\\2996257243.py:47: FutureWarning: The frame.append method is deprecated and will be removed from pandas in a future version. Use pandas.concat instead.\n",
      "  df = df.append(df_temp)\n",
      "C:\\Users\\Yogesh\\AppData\\Local\\Temp\\ipykernel_4204\\2996257243.py:47: FutureWarning: The frame.append method is deprecated and will be removed from pandas in a future version. Use pandas.concat instead.\n",
      "  df = df.append(df_temp)\n",
      "C:\\Users\\Yogesh\\AppData\\Local\\Temp\\ipykernel_4204\\2996257243.py:47: FutureWarning: The frame.append method is deprecated and will be removed from pandas in a future version. Use pandas.concat instead.\n",
      "  df = df.append(df_temp)\n"
     ]
    },
    {
     "name": "stdout",
     "output_type": "stream",
     "text": [
      "1123.JPG\n",
      "1124.JPG\n",
      "1125.JPG\n",
      "1126.JPG\n"
     ]
    },
    {
     "name": "stderr",
     "output_type": "stream",
     "text": [
      "C:\\Users\\Yogesh\\AppData\\Local\\Temp\\ipykernel_4204\\2996257243.py:47: FutureWarning: The frame.append method is deprecated and will be removed from pandas in a future version. Use pandas.concat instead.\n",
      "  df = df.append(df_temp)\n",
      "C:\\Users\\Yogesh\\AppData\\Local\\Temp\\ipykernel_4204\\2996257243.py:47: FutureWarning: The frame.append method is deprecated and will be removed from pandas in a future version. Use pandas.concat instead.\n",
      "  df = df.append(df_temp)\n",
      "C:\\Users\\Yogesh\\AppData\\Local\\Temp\\ipykernel_4204\\2996257243.py:47: FutureWarning: The frame.append method is deprecated and will be removed from pandas in a future version. Use pandas.concat instead.\n",
      "  df = df.append(df_temp)\n"
     ]
    },
    {
     "name": "stdout",
     "output_type": "stream",
     "text": [
      "1127.JPG\n",
      "1128.JPG\n",
      "1129.JPG\n"
     ]
    },
    {
     "name": "stderr",
     "output_type": "stream",
     "text": [
      "C:\\Users\\Yogesh\\AppData\\Local\\Temp\\ipykernel_4204\\2996257243.py:47: FutureWarning: The frame.append method is deprecated and will be removed from pandas in a future version. Use pandas.concat instead.\n",
      "  df = df.append(df_temp)\n",
      "C:\\Users\\Yogesh\\AppData\\Local\\Temp\\ipykernel_4204\\2996257243.py:47: FutureWarning: The frame.append method is deprecated and will be removed from pandas in a future version. Use pandas.concat instead.\n",
      "  df = df.append(df_temp)\n",
      "C:\\Users\\Yogesh\\AppData\\Local\\Temp\\ipykernel_4204\\2996257243.py:47: FutureWarning: The frame.append method is deprecated and will be removed from pandas in a future version. Use pandas.concat instead.\n",
      "  df = df.append(df_temp)\n",
      "C:\\Users\\Yogesh\\AppData\\Local\\Temp\\ipykernel_4204\\2996257243.py:47: FutureWarning: The frame.append method is deprecated and will be removed from pandas in a future version. Use pandas.concat instead.\n",
      "  df = df.append(df_temp)\n"
     ]
    },
    {
     "name": "stdout",
     "output_type": "stream",
     "text": [
      "1130.JPG\n",
      "1131.JPG\n",
      "1132.JPG\n",
      "1133.JPG\n"
     ]
    },
    {
     "name": "stderr",
     "output_type": "stream",
     "text": [
      "C:\\Users\\Yogesh\\AppData\\Local\\Temp\\ipykernel_4204\\2996257243.py:47: FutureWarning: The frame.append method is deprecated and will be removed from pandas in a future version. Use pandas.concat instead.\n",
      "  df = df.append(df_temp)\n",
      "C:\\Users\\Yogesh\\AppData\\Local\\Temp\\ipykernel_4204\\2996257243.py:47: FutureWarning: The frame.append method is deprecated and will be removed from pandas in a future version. Use pandas.concat instead.\n",
      "  df = df.append(df_temp)\n",
      "C:\\Users\\Yogesh\\AppData\\Local\\Temp\\ipykernel_4204\\2996257243.py:47: FutureWarning: The frame.append method is deprecated and will be removed from pandas in a future version. Use pandas.concat instead.\n",
      "  df = df.append(df_temp)\n",
      "C:\\Users\\Yogesh\\AppData\\Local\\Temp\\ipykernel_4204\\2996257243.py:47: FutureWarning: The frame.append method is deprecated and will be removed from pandas in a future version. Use pandas.concat instead.\n",
      "  df = df.append(df_temp)\n",
      "C:\\Users\\Yogesh\\AppData\\Local\\Temp\\ipykernel_4204\\2996257243.py:47: FutureWarning: The frame.append method is deprecated and will be removed from pandas in a future version. Use pandas.concat instead.\n",
      "  df = df.append(df_temp)\n"
     ]
    },
    {
     "name": "stdout",
     "output_type": "stream",
     "text": [
      "1134.JPG\n",
      "1135.JPG\n",
      "1136.JPG\n",
      "1137.JPG\n",
      "1138.JPG\n",
      "1139.JPG\n",
      "1140.JPG\n",
      "1141.JPG\n"
     ]
    },
    {
     "name": "stderr",
     "output_type": "stream",
     "text": [
      "C:\\Users\\Yogesh\\AppData\\Local\\Temp\\ipykernel_4204\\2996257243.py:47: FutureWarning: The frame.append method is deprecated and will be removed from pandas in a future version. Use pandas.concat instead.\n",
      "  df = df.append(df_temp)\n",
      "C:\\Users\\Yogesh\\AppData\\Local\\Temp\\ipykernel_4204\\2996257243.py:47: FutureWarning: The frame.append method is deprecated and will be removed from pandas in a future version. Use pandas.concat instead.\n",
      "  df = df.append(df_temp)\n",
      "C:\\Users\\Yogesh\\AppData\\Local\\Temp\\ipykernel_4204\\2996257243.py:47: FutureWarning: The frame.append method is deprecated and will be removed from pandas in a future version. Use pandas.concat instead.\n",
      "  df = df.append(df_temp)\n",
      "C:\\Users\\Yogesh\\AppData\\Local\\Temp\\ipykernel_4204\\2996257243.py:47: FutureWarning: The frame.append method is deprecated and will be removed from pandas in a future version. Use pandas.concat instead.\n",
      "  df = df.append(df_temp)\n",
      "C:\\Users\\Yogesh\\AppData\\Local\\Temp\\ipykernel_4204\\2996257243.py:47: FutureWarning: The frame.append method is deprecated and will be removed from pandas in a future version. Use pandas.concat instead.\n",
      "  df = df.append(df_temp)\n",
      "C:\\Users\\Yogesh\\AppData\\Local\\Temp\\ipykernel_4204\\2996257243.py:47: FutureWarning: The frame.append method is deprecated and will be removed from pandas in a future version. Use pandas.concat instead.\n",
      "  df = df.append(df_temp)\n",
      "C:\\Users\\Yogesh\\AppData\\Local\\Temp\\ipykernel_4204\\2996257243.py:47: FutureWarning: The frame.append method is deprecated and will be removed from pandas in a future version. Use pandas.concat instead.\n",
      "  df = df.append(df_temp)\n"
     ]
    },
    {
     "name": "stdout",
     "output_type": "stream",
     "text": [
      "1142.JPG\n",
      "1143.JPG\n",
      "1144.JPG\n",
      "1145.JPG\n",
      "1146.JPG\n",
      "1147.JPG\n",
      "1148.JPG"
     ]
    },
    {
     "name": "stderr",
     "output_type": "stream",
     "text": [
      "C:\\Users\\Yogesh\\AppData\\Local\\Temp\\ipykernel_4204\\2996257243.py:47: FutureWarning: The frame.append method is deprecated and will be removed from pandas in a future version. Use pandas.concat instead.\n",
      "  df = df.append(df_temp)\n",
      "C:\\Users\\Yogesh\\AppData\\Local\\Temp\\ipykernel_4204\\2996257243.py:47: FutureWarning: The frame.append method is deprecated and will be removed from pandas in a future version. Use pandas.concat instead.\n",
      "  df = df.append(df_temp)\n",
      "C:\\Users\\Yogesh\\AppData\\Local\\Temp\\ipykernel_4204\\2996257243.py:47: FutureWarning: The frame.append method is deprecated and will be removed from pandas in a future version. Use pandas.concat instead.\n",
      "  df = df.append(df_temp)\n",
      "C:\\Users\\Yogesh\\AppData\\Local\\Temp\\ipykernel_4204\\2996257243.py:47: FutureWarning: The frame.append method is deprecated and will be removed from pandas in a future version. Use pandas.concat instead.\n",
      "  df = df.append(df_temp)\n"
     ]
    },
    {
     "name": "stdout",
     "output_type": "stream",
     "text": [
      "\n",
      "1149.JPG\n",
      "1150.JPG\n",
      "1151.JPG\n"
     ]
    },
    {
     "name": "stderr",
     "output_type": "stream",
     "text": [
      "C:\\Users\\Yogesh\\AppData\\Local\\Temp\\ipykernel_4204\\2996257243.py:47: FutureWarning: The frame.append method is deprecated and will be removed from pandas in a future version. Use pandas.concat instead.\n",
      "  df = df.append(df_temp)\n",
      "C:\\Users\\Yogesh\\AppData\\Local\\Temp\\ipykernel_4204\\2996257243.py:47: FutureWarning: The frame.append method is deprecated and will be removed from pandas in a future version. Use pandas.concat instead.\n",
      "  df = df.append(df_temp)\n",
      "C:\\Users\\Yogesh\\AppData\\Local\\Temp\\ipykernel_4204\\2996257243.py:47: FutureWarning: The frame.append method is deprecated and will be removed from pandas in a future version. Use pandas.concat instead.\n",
      "  df = df.append(df_temp)\n",
      "C:\\Users\\Yogesh\\AppData\\Local\\Temp\\ipykernel_4204\\2996257243.py:47: FutureWarning: The frame.append method is deprecated and will be removed from pandas in a future version. Use pandas.concat instead.\n",
      "  df = df.append(df_temp)\n",
      "C:\\Users\\Yogesh\\AppData\\Local\\Temp\\ipykernel_4204\\2996257243.py:47: FutureWarning: The frame.append method is deprecated and will be removed from pandas in a future version. Use pandas.concat instead.\n",
      "  df = df.append(df_temp)\n"
     ]
    },
    {
     "name": "stdout",
     "output_type": "stream",
     "text": [
      "1152.JPG\n",
      "1153.JPG\n",
      "1154.JPG\n",
      "1155.JPG\n"
     ]
    },
    {
     "name": "stderr",
     "output_type": "stream",
     "text": [
      "C:\\Users\\Yogesh\\AppData\\Local\\Temp\\ipykernel_4204\\2996257243.py:47: FutureWarning: The frame.append method is deprecated and will be removed from pandas in a future version. Use pandas.concat instead.\n",
      "  df = df.append(df_temp)\n",
      "C:\\Users\\Yogesh\\AppData\\Local\\Temp\\ipykernel_4204\\2996257243.py:47: FutureWarning: The frame.append method is deprecated and will be removed from pandas in a future version. Use pandas.concat instead.\n",
      "  df = df.append(df_temp)\n",
      "C:\\Users\\Yogesh\\AppData\\Local\\Temp\\ipykernel_4204\\2996257243.py:47: FutureWarning: The frame.append method is deprecated and will be removed from pandas in a future version. Use pandas.concat instead.\n",
      "  df = df.append(df_temp)\n"
     ]
    },
    {
     "name": "stdout",
     "output_type": "stream",
     "text": [
      "1156.JPG\n",
      "1157.JPG\n",
      "1158.JPG\n",
      "1159.JPG\n",
      "1160.JPG"
     ]
    },
    {
     "name": "stderr",
     "output_type": "stream",
     "text": [
      "C:\\Users\\Yogesh\\AppData\\Local\\Temp\\ipykernel_4204\\2996257243.py:47: FutureWarning: The frame.append method is deprecated and will be removed from pandas in a future version. Use pandas.concat instead.\n",
      "  df = df.append(df_temp)\n",
      "C:\\Users\\Yogesh\\AppData\\Local\\Temp\\ipykernel_4204\\2996257243.py:47: FutureWarning: The frame.append method is deprecated and will be removed from pandas in a future version. Use pandas.concat instead.\n",
      "  df = df.append(df_temp)\n",
      "C:\\Users\\Yogesh\\AppData\\Local\\Temp\\ipykernel_4204\\2996257243.py:47: FutureWarning: The frame.append method is deprecated and will be removed from pandas in a future version. Use pandas.concat instead.\n",
      "  df = df.append(df_temp)\n",
      "C:\\Users\\Yogesh\\AppData\\Local\\Temp\\ipykernel_4204\\2996257243.py:47: FutureWarning: The frame.append method is deprecated and will be removed from pandas in a future version. Use pandas.concat instead.\n",
      "  df = df.append(df_temp)\n"
     ]
    },
    {
     "name": "stdout",
     "output_type": "stream",
     "text": [
      "\n",
      "1161.JPG\n",
      "1162.JPG\n"
     ]
    },
    {
     "name": "stderr",
     "output_type": "stream",
     "text": [
      "C:\\Users\\Yogesh\\AppData\\Local\\Temp\\ipykernel_4204\\2996257243.py:47: FutureWarning: The frame.append method is deprecated and will be removed from pandas in a future version. Use pandas.concat instead.\n",
      "  df = df.append(df_temp)\n",
      "C:\\Users\\Yogesh\\AppData\\Local\\Temp\\ipykernel_4204\\2996257243.py:47: FutureWarning: The frame.append method is deprecated and will be removed from pandas in a future version. Use pandas.concat instead.\n",
      "  df = df.append(df_temp)\n",
      "C:\\Users\\Yogesh\\AppData\\Local\\Temp\\ipykernel_4204\\2996257243.py:47: FutureWarning: The frame.append method is deprecated and will be removed from pandas in a future version. Use pandas.concat instead.\n",
      "  df = df.append(df_temp)\n",
      "C:\\Users\\Yogesh\\AppData\\Local\\Temp\\ipykernel_4204\\2996257243.py:47: FutureWarning: The frame.append method is deprecated and will be removed from pandas in a future version. Use pandas.concat instead.\n",
      "  df = df.append(df_temp)\n",
      "C:\\Users\\Yogesh\\AppData\\Local\\Temp\\ipykernel_4204\\2996257243.py:47: FutureWarning: The frame.append method is deprecated and will be removed from pandas in a future version. Use pandas.concat instead.\n",
      "  df = df.append(df_temp)\n"
     ]
    },
    {
     "name": "stdout",
     "output_type": "stream",
     "text": [
      "1163.JPG\n",
      "1164.JPG\n",
      "1165.JPG\n",
      "1166.JPG\n"
     ]
    },
    {
     "name": "stderr",
     "output_type": "stream",
     "text": [
      "C:\\Users\\Yogesh\\AppData\\Local\\Temp\\ipykernel_4204\\2996257243.py:47: FutureWarning: The frame.append method is deprecated and will be removed from pandas in a future version. Use pandas.concat instead.\n",
      "  df = df.append(df_temp)\n",
      "C:\\Users\\Yogesh\\AppData\\Local\\Temp\\ipykernel_4204\\2996257243.py:47: FutureWarning: The frame.append method is deprecated and will be removed from pandas in a future version. Use pandas.concat instead.\n",
      "  df = df.append(df_temp)\n",
      "C:\\Users\\Yogesh\\AppData\\Local\\Temp\\ipykernel_4204\\2996257243.py:47: FutureWarning: The frame.append method is deprecated and will be removed from pandas in a future version. Use pandas.concat instead.\n",
      "  df = df.append(df_temp)\n",
      "C:\\Users\\Yogesh\\AppData\\Local\\Temp\\ipykernel_4204\\2996257243.py:47: FutureWarning: The frame.append method is deprecated and will be removed from pandas in a future version. Use pandas.concat instead.\n",
      "  df = df.append(df_temp)\n",
      "C:\\Users\\Yogesh\\AppData\\Local\\Temp\\ipykernel_4204\\2996257243.py:47: FutureWarning: The frame.append method is deprecated and will be removed from pandas in a future version. Use pandas.concat instead.\n",
      "  df = df.append(df_temp)\n"
     ]
    },
    {
     "name": "stdout",
     "output_type": "stream",
     "text": [
      "1167.JPG\n",
      "1168.JPG\n",
      "1169.JPG\n",
      "1170.JPG\n",
      "1171.JPG\n",
      "1172.JPG\n",
      "1173.JPG\n",
      "1174.JPG\n",
      "1175.JPG\n"
     ]
    },
    {
     "name": "stderr",
     "output_type": "stream",
     "text": [
      "C:\\Users\\Yogesh\\AppData\\Local\\Temp\\ipykernel_4204\\2996257243.py:47: FutureWarning: The frame.append method is deprecated and will be removed from pandas in a future version. Use pandas.concat instead.\n",
      "  df = df.append(df_temp)\n",
      "C:\\Users\\Yogesh\\AppData\\Local\\Temp\\ipykernel_4204\\2996257243.py:47: FutureWarning: The frame.append method is deprecated and will be removed from pandas in a future version. Use pandas.concat instead.\n",
      "  df = df.append(df_temp)\n",
      "C:\\Users\\Yogesh\\AppData\\Local\\Temp\\ipykernel_4204\\2996257243.py:47: FutureWarning: The frame.append method is deprecated and will be removed from pandas in a future version. Use pandas.concat instead.\n",
      "  df = df.append(df_temp)\n",
      "C:\\Users\\Yogesh\\AppData\\Local\\Temp\\ipykernel_4204\\2996257243.py:47: FutureWarning: The frame.append method is deprecated and will be removed from pandas in a future version. Use pandas.concat instead.\n",
      "  df = df.append(df_temp)\n",
      "C:\\Users\\Yogesh\\AppData\\Local\\Temp\\ipykernel_4204\\2996257243.py:47: FutureWarning: The frame.append method is deprecated and will be removed from pandas in a future version. Use pandas.concat instead.\n",
      "  df = df.append(df_temp)\n",
      "C:\\Users\\Yogesh\\AppData\\Local\\Temp\\ipykernel_4204\\2996257243.py:47: FutureWarning: The frame.append method is deprecated and will be removed from pandas in a future version. Use pandas.concat instead.\n",
      "  df = df.append(df_temp)\n"
     ]
    },
    {
     "name": "stdout",
     "output_type": "stream",
     "text": [
      "1176.JPG\n",
      "1177.JPG\n",
      "1178.JPG\n",
      "1179.JPG\n",
      "1180.JPG\n"
     ]
    },
    {
     "name": "stderr",
     "output_type": "stream",
     "text": [
      "C:\\Users\\Yogesh\\AppData\\Local\\Temp\\ipykernel_4204\\2996257243.py:47: FutureWarning: The frame.append method is deprecated and will be removed from pandas in a future version. Use pandas.concat instead.\n",
      "  df = df.append(df_temp)\n",
      "C:\\Users\\Yogesh\\AppData\\Local\\Temp\\ipykernel_4204\\2996257243.py:47: FutureWarning: The frame.append method is deprecated and will be removed from pandas in a future version. Use pandas.concat instead.\n",
      "  df = df.append(df_temp)\n",
      "C:\\Users\\Yogesh\\AppData\\Local\\Temp\\ipykernel_4204\\2996257243.py:47: FutureWarning: The frame.append method is deprecated and will be removed from pandas in a future version. Use pandas.concat instead.\n",
      "  df = df.append(df_temp)\n",
      "C:\\Users\\Yogesh\\AppData\\Local\\Temp\\ipykernel_4204\\2996257243.py:47: FutureWarning: The frame.append method is deprecated and will be removed from pandas in a future version. Use pandas.concat instead.\n",
      "  df = df.append(df_temp)\n",
      "C:\\Users\\Yogesh\\AppData\\Local\\Temp\\ipykernel_4204\\2996257243.py:47: FutureWarning: The frame.append method is deprecated and will be removed from pandas in a future version. Use pandas.concat instead.\n",
      "  df = df.append(df_temp)\n",
      "C:\\Users\\Yogesh\\AppData\\Local\\Temp\\ipykernel_4204\\2996257243.py:47: FutureWarning: The frame.append method is deprecated and will be removed from pandas in a future version. Use pandas.concat instead.\n",
      "  df = df.append(df_temp)\n"
     ]
    },
    {
     "name": "stdout",
     "output_type": "stream",
     "text": [
      "1181.JPG\n",
      "1182.JPG\n",
      "1183.JPG\n",
      "1184.JPG\n"
     ]
    },
    {
     "name": "stderr",
     "output_type": "stream",
     "text": [
      "C:\\Users\\Yogesh\\AppData\\Local\\Temp\\ipykernel_4204\\2996257243.py:47: FutureWarning: The frame.append method is deprecated and will be removed from pandas in a future version. Use pandas.concat instead.\n",
      "  df = df.append(df_temp)\n",
      "C:\\Users\\Yogesh\\AppData\\Local\\Temp\\ipykernel_4204\\2996257243.py:47: FutureWarning: The frame.append method is deprecated and will be removed from pandas in a future version. Use pandas.concat instead.\n",
      "  df = df.append(df_temp)\n",
      "C:\\Users\\Yogesh\\AppData\\Local\\Temp\\ipykernel_4204\\2996257243.py:47: FutureWarning: The frame.append method is deprecated and will be removed from pandas in a future version. Use pandas.concat instead.\n",
      "  df = df.append(df_temp)\n",
      "C:\\Users\\Yogesh\\AppData\\Local\\Temp\\ipykernel_4204\\2996257243.py:47: FutureWarning: The frame.append method is deprecated and will be removed from pandas in a future version. Use pandas.concat instead.\n",
      "  df = df.append(df_temp)\n"
     ]
    },
    {
     "name": "stdout",
     "output_type": "stream",
     "text": [
      "1185.JPG\n",
      "1186.JPG\n",
      "1187.JPG\n",
      "1188.JPG\n"
     ]
    },
    {
     "name": "stderr",
     "output_type": "stream",
     "text": [
      "C:\\Users\\Yogesh\\AppData\\Local\\Temp\\ipykernel_4204\\2996257243.py:47: FutureWarning: The frame.append method is deprecated and will be removed from pandas in a future version. Use pandas.concat instead.\n",
      "  df = df.append(df_temp)\n",
      "C:\\Users\\Yogesh\\AppData\\Local\\Temp\\ipykernel_4204\\2996257243.py:47: FutureWarning: The frame.append method is deprecated and will be removed from pandas in a future version. Use pandas.concat instead.\n",
      "  df = df.append(df_temp)\n",
      "C:\\Users\\Yogesh\\AppData\\Local\\Temp\\ipykernel_4204\\2996257243.py:47: FutureWarning: The frame.append method is deprecated and will be removed from pandas in a future version. Use pandas.concat instead.\n",
      "  df = df.append(df_temp)\n",
      "C:\\Users\\Yogesh\\AppData\\Local\\Temp\\ipykernel_4204\\2996257243.py:47: FutureWarning: The frame.append method is deprecated and will be removed from pandas in a future version. Use pandas.concat instead.\n",
      "  df = df.append(df_temp)\n",
      "C:\\Users\\Yogesh\\AppData\\Local\\Temp\\ipykernel_4204\\2996257243.py:47: FutureWarning: The frame.append method is deprecated and will be removed from pandas in a future version. Use pandas.concat instead.\n",
      "  df = df.append(df_temp)\n",
      "C:\\Users\\Yogesh\\AppData\\Local\\Temp\\ipykernel_4204\\2996257243.py:47: FutureWarning: The frame.append method is deprecated and will be removed from pandas in a future version. Use pandas.concat instead.\n",
      "  df = df.append(df_temp)\n"
     ]
    },
    {
     "name": "stdout",
     "output_type": "stream",
     "text": [
      "1189.JPG\n",
      "1190.JPG\n",
      "1191.JPG\n",
      "1192.JPG\n",
      "1193.JPG\n",
      "1194.JPG\n",
      "1195.JPG\n",
      "1196.JPG\n",
      "1197.JPG\n",
      "1198.JPG\n"
     ]
    },
    {
     "name": "stderr",
     "output_type": "stream",
     "text": [
      "C:\\Users\\Yogesh\\AppData\\Local\\Temp\\ipykernel_4204\\2996257243.py:47: FutureWarning: The frame.append method is deprecated and will be removed from pandas in a future version. Use pandas.concat instead.\n",
      "  df = df.append(df_temp)\n",
      "C:\\Users\\Yogesh\\AppData\\Local\\Temp\\ipykernel_4204\\2996257243.py:47: FutureWarning: The frame.append method is deprecated and will be removed from pandas in a future version. Use pandas.concat instead.\n",
      "  df = df.append(df_temp)\n",
      "C:\\Users\\Yogesh\\AppData\\Local\\Temp\\ipykernel_4204\\2996257243.py:47: FutureWarning: The frame.append method is deprecated and will be removed from pandas in a future version. Use pandas.concat instead.\n",
      "  df = df.append(df_temp)\n",
      "C:\\Users\\Yogesh\\AppData\\Local\\Temp\\ipykernel_4204\\2996257243.py:47: FutureWarning: The frame.append method is deprecated and will be removed from pandas in a future version. Use pandas.concat instead.\n",
      "  df = df.append(df_temp)\n",
      "C:\\Users\\Yogesh\\AppData\\Local\\Temp\\ipykernel_4204\\2996257243.py:47: FutureWarning: The frame.append method is deprecated and will be removed from pandas in a future version. Use pandas.concat instead.\n",
      "  df = df.append(df_temp)\n",
      "C:\\Users\\Yogesh\\AppData\\Local\\Temp\\ipykernel_4204\\2996257243.py:47: FutureWarning: The frame.append method is deprecated and will be removed from pandas in a future version. Use pandas.concat instead.\n",
      "  df = df.append(df_temp)\n",
      "C:\\Users\\Yogesh\\AppData\\Local\\Temp\\ipykernel_4204\\2996257243.py:47: FutureWarning: The frame.append method is deprecated and will be removed from pandas in a future version. Use pandas.concat instead.\n",
      "  df = df.append(df_temp)\n"
     ]
    },
    {
     "name": "stdout",
     "output_type": "stream",
     "text": [
      "1199.JPG\n",
      "1200.JPG\n",
      "1201.JPG\n",
      "1202.JPG\n",
      "1203.JPG\n"
     ]
    },
    {
     "name": "stderr",
     "output_type": "stream",
     "text": [
      "C:\\Users\\Yogesh\\AppData\\Local\\Temp\\ipykernel_4204\\2996257243.py:47: FutureWarning: The frame.append method is deprecated and will be removed from pandas in a future version. Use pandas.concat instead.\n",
      "  df = df.append(df_temp)\n",
      "C:\\Users\\Yogesh\\AppData\\Local\\Temp\\ipykernel_4204\\2996257243.py:47: FutureWarning: The frame.append method is deprecated and will be removed from pandas in a future version. Use pandas.concat instead.\n",
      "  df = df.append(df_temp)\n",
      "C:\\Users\\Yogesh\\AppData\\Local\\Temp\\ipykernel_4204\\2996257243.py:47: FutureWarning: The frame.append method is deprecated and will be removed from pandas in a future version. Use pandas.concat instead.\n",
      "  df = df.append(df_temp)\n",
      "C:\\Users\\Yogesh\\AppData\\Local\\Temp\\ipykernel_4204\\2996257243.py:47: FutureWarning: The frame.append method is deprecated and will be removed from pandas in a future version. Use pandas.concat instead.\n",
      "  df = df.append(df_temp)\n"
     ]
    },
    {
     "name": "stdout",
     "output_type": "stream",
     "text": [
      "1204.JPG\n",
      "1205.JPG\n",
      "1206.JPG\n",
      "1207.JPG\n"
     ]
    },
    {
     "name": "stderr",
     "output_type": "stream",
     "text": [
      "C:\\Users\\Yogesh\\AppData\\Local\\Temp\\ipykernel_4204\\2996257243.py:47: FutureWarning: The frame.append method is deprecated and will be removed from pandas in a future version. Use pandas.concat instead.\n",
      "  df = df.append(df_temp)\n",
      "C:\\Users\\Yogesh\\AppData\\Local\\Temp\\ipykernel_4204\\2996257243.py:47: FutureWarning: The frame.append method is deprecated and will be removed from pandas in a future version. Use pandas.concat instead.\n",
      "  df = df.append(df_temp)\n",
      "C:\\Users\\Yogesh\\AppData\\Local\\Temp\\ipykernel_4204\\2996257243.py:47: FutureWarning: The frame.append method is deprecated and will be removed from pandas in a future version. Use pandas.concat instead.\n",
      "  df = df.append(df_temp)\n",
      "C:\\Users\\Yogesh\\AppData\\Local\\Temp\\ipykernel_4204\\2996257243.py:47: FutureWarning: The frame.append method is deprecated and will be removed from pandas in a future version. Use pandas.concat instead.\n",
      "  df = df.append(df_temp)\n",
      "C:\\Users\\Yogesh\\AppData\\Local\\Temp\\ipykernel_4204\\2996257243.py:47: FutureWarning: The frame.append method is deprecated and will be removed from pandas in a future version. Use pandas.concat instead.\n",
      "  df = df.append(df_temp)\n"
     ]
    },
    {
     "name": "stdout",
     "output_type": "stream",
     "text": [
      "1208.JPG\n",
      "1209.JPG\n",
      "1210.JPG\n",
      "1211.JPG\n"
     ]
    },
    {
     "name": "stderr",
     "output_type": "stream",
     "text": [
      "C:\\Users\\Yogesh\\AppData\\Local\\Temp\\ipykernel_4204\\2996257243.py:47: FutureWarning: The frame.append method is deprecated and will be removed from pandas in a future version. Use pandas.concat instead.\n",
      "  df = df.append(df_temp)\n",
      "C:\\Users\\Yogesh\\AppData\\Local\\Temp\\ipykernel_4204\\2996257243.py:47: FutureWarning: The frame.append method is deprecated and will be removed from pandas in a future version. Use pandas.concat instead.\n",
      "  df = df.append(df_temp)\n",
      "C:\\Users\\Yogesh\\AppData\\Local\\Temp\\ipykernel_4204\\2996257243.py:47: FutureWarning: The frame.append method is deprecated and will be removed from pandas in a future version. Use pandas.concat instead.\n",
      "  df = df.append(df_temp)\n",
      "C:\\Users\\Yogesh\\AppData\\Local\\Temp\\ipykernel_4204\\2996257243.py:47: FutureWarning: The frame.append method is deprecated and will be removed from pandas in a future version. Use pandas.concat instead.\n",
      "  df = df.append(df_temp)\n",
      "C:\\Users\\Yogesh\\AppData\\Local\\Temp\\ipykernel_4204\\2996257243.py:47: FutureWarning: The frame.append method is deprecated and will be removed from pandas in a future version. Use pandas.concat instead.\n",
      "  df = df.append(df_temp)\n"
     ]
    },
    {
     "name": "stdout",
     "output_type": "stream",
     "text": [
      "1212.JPG\n",
      "1213.JPG\n",
      "1214.JPG\n",
      "1215.JPG\n"
     ]
    },
    {
     "name": "stderr",
     "output_type": "stream",
     "text": [
      "C:\\Users\\Yogesh\\AppData\\Local\\Temp\\ipykernel_4204\\2996257243.py:47: FutureWarning: The frame.append method is deprecated and will be removed from pandas in a future version. Use pandas.concat instead.\n",
      "  df = df.append(df_temp)\n",
      "C:\\Users\\Yogesh\\AppData\\Local\\Temp\\ipykernel_4204\\2996257243.py:47: FutureWarning: The frame.append method is deprecated and will be removed from pandas in a future version. Use pandas.concat instead.\n",
      "  df = df.append(df_temp)\n",
      "C:\\Users\\Yogesh\\AppData\\Local\\Temp\\ipykernel_4204\\2996257243.py:47: FutureWarning: The frame.append method is deprecated and will be removed from pandas in a future version. Use pandas.concat instead.\n",
      "  df = df.append(df_temp)\n",
      "C:\\Users\\Yogesh\\AppData\\Local\\Temp\\ipykernel_4204\\2996257243.py:47: FutureWarning: The frame.append method is deprecated and will be removed from pandas in a future version. Use pandas.concat instead.\n",
      "  df = df.append(df_temp)\n"
     ]
    },
    {
     "name": "stdout",
     "output_type": "stream",
     "text": [
      "1216.JPG\n",
      "1217.JPG\n",
      "1218.JPG\n",
      "1219.JPG\n"
     ]
    },
    {
     "name": "stderr",
     "output_type": "stream",
     "text": [
      "C:\\Users\\Yogesh\\AppData\\Local\\Temp\\ipykernel_4204\\2996257243.py:47: FutureWarning: The frame.append method is deprecated and will be removed from pandas in a future version. Use pandas.concat instead.\n",
      "  df = df.append(df_temp)\n",
      "C:\\Users\\Yogesh\\AppData\\Local\\Temp\\ipykernel_4204\\2996257243.py:47: FutureWarning: The frame.append method is deprecated and will be removed from pandas in a future version. Use pandas.concat instead.\n",
      "  df = df.append(df_temp)\n",
      "C:\\Users\\Yogesh\\AppData\\Local\\Temp\\ipykernel_4204\\2996257243.py:47: FutureWarning: The frame.append method is deprecated and will be removed from pandas in a future version. Use pandas.concat instead.\n",
      "  df = df.append(df_temp)\n",
      "C:\\Users\\Yogesh\\AppData\\Local\\Temp\\ipykernel_4204\\2996257243.py:47: FutureWarning: The frame.append method is deprecated and will be removed from pandas in a future version. Use pandas.concat instead.\n",
      "  df = df.append(df_temp)\n",
      "C:\\Users\\Yogesh\\AppData\\Local\\Temp\\ipykernel_4204\\2996257243.py:47: FutureWarning: The frame.append method is deprecated and will be removed from pandas in a future version. Use pandas.concat instead.\n",
      "  df = df.append(df_temp)\n"
     ]
    },
    {
     "name": "stdout",
     "output_type": "stream",
     "text": [
      "1220.JPG\n",
      "1221.JPG\n",
      "1222.JPG\n",
      "1223.JPG\n"
     ]
    },
    {
     "name": "stderr",
     "output_type": "stream",
     "text": [
      "C:\\Users\\Yogesh\\AppData\\Local\\Temp\\ipykernel_4204\\2996257243.py:47: FutureWarning: The frame.append method is deprecated and will be removed from pandas in a future version. Use pandas.concat instead.\n",
      "  df = df.append(df_temp)\n",
      "C:\\Users\\Yogesh\\AppData\\Local\\Temp\\ipykernel_4204\\2996257243.py:47: FutureWarning: The frame.append method is deprecated and will be removed from pandas in a future version. Use pandas.concat instead.\n",
      "  df = df.append(df_temp)\n",
      "C:\\Users\\Yogesh\\AppData\\Local\\Temp\\ipykernel_4204\\2996257243.py:47: FutureWarning: The frame.append method is deprecated and will be removed from pandas in a future version. Use pandas.concat instead.\n",
      "  df = df.append(df_temp)\n",
      "C:\\Users\\Yogesh\\AppData\\Local\\Temp\\ipykernel_4204\\2996257243.py:47: FutureWarning: The frame.append method is deprecated and will be removed from pandas in a future version. Use pandas.concat instead.\n",
      "  df = df.append(df_temp)\n",
      "C:\\Users\\Yogesh\\AppData\\Local\\Temp\\ipykernel_4204\\2996257243.py:47: FutureWarning: The frame.append method is deprecated and will be removed from pandas in a future version. Use pandas.concat instead.\n",
      "  df = df.append(df_temp)\n",
      "C:\\Users\\Yogesh\\AppData\\Local\\Temp\\ipykernel_4204\\2996257243.py:47: FutureWarning: The frame.append method is deprecated and will be removed from pandas in a future version. Use pandas.concat instead.\n",
      "  df = df.append(df_temp)\n"
     ]
    },
    {
     "name": "stdout",
     "output_type": "stream",
     "text": [
      "1224.JPG\n",
      "1225.JPG\n",
      "1226.JPG\n",
      "1227.JPG\n",
      "1228.JPG\n",
      "1229.JPG\n",
      "1230.JPG\n",
      "1231.JPG\n",
      "1232.JPG\n",
      "1233.JPG\n"
     ]
    },
    {
     "name": "stderr",
     "output_type": "stream",
     "text": [
      "C:\\Users\\Yogesh\\AppData\\Local\\Temp\\ipykernel_4204\\2996257243.py:47: FutureWarning: The frame.append method is deprecated and will be removed from pandas in a future version. Use pandas.concat instead.\n",
      "  df = df.append(df_temp)\n",
      "C:\\Users\\Yogesh\\AppData\\Local\\Temp\\ipykernel_4204\\2996257243.py:47: FutureWarning: The frame.append method is deprecated and will be removed from pandas in a future version. Use pandas.concat instead.\n",
      "  df = df.append(df_temp)\n",
      "C:\\Users\\Yogesh\\AppData\\Local\\Temp\\ipykernel_4204\\2996257243.py:47: FutureWarning: The frame.append method is deprecated and will be removed from pandas in a future version. Use pandas.concat instead.\n",
      "  df = df.append(df_temp)\n",
      "C:\\Users\\Yogesh\\AppData\\Local\\Temp\\ipykernel_4204\\2996257243.py:47: FutureWarning: The frame.append method is deprecated and will be removed from pandas in a future version. Use pandas.concat instead.\n",
      "  df = df.append(df_temp)\n",
      "C:\\Users\\Yogesh\\AppData\\Local\\Temp\\ipykernel_4204\\2996257243.py:47: FutureWarning: The frame.append method is deprecated and will be removed from pandas in a future version. Use pandas.concat instead.\n",
      "  df = df.append(df_temp)\n"
     ]
    },
    {
     "name": "stdout",
     "output_type": "stream",
     "text": [
      "1234.JPG\n",
      "1235.JPG\n",
      "1236.JPG\n",
      "1237.JPG\n",
      "1238.JPG\n"
     ]
    },
    {
     "name": "stderr",
     "output_type": "stream",
     "text": [
      "C:\\Users\\Yogesh\\AppData\\Local\\Temp\\ipykernel_4204\\2996257243.py:47: FutureWarning: The frame.append method is deprecated and will be removed from pandas in a future version. Use pandas.concat instead.\n",
      "  df = df.append(df_temp)\n",
      "C:\\Users\\Yogesh\\AppData\\Local\\Temp\\ipykernel_4204\\2996257243.py:47: FutureWarning: The frame.append method is deprecated and will be removed from pandas in a future version. Use pandas.concat instead.\n",
      "  df = df.append(df_temp)\n",
      "C:\\Users\\Yogesh\\AppData\\Local\\Temp\\ipykernel_4204\\2996257243.py:47: FutureWarning: The frame.append method is deprecated and will be removed from pandas in a future version. Use pandas.concat instead.\n",
      "  df = df.append(df_temp)\n",
      "C:\\Users\\Yogesh\\AppData\\Local\\Temp\\ipykernel_4204\\2996257243.py:47: FutureWarning: The frame.append method is deprecated and will be removed from pandas in a future version. Use pandas.concat instead.\n",
      "  df = df.append(df_temp)\n",
      "C:\\Users\\Yogesh\\AppData\\Local\\Temp\\ipykernel_4204\\2996257243.py:47: FutureWarning: The frame.append method is deprecated and will be removed from pandas in a future version. Use pandas.concat instead.\n",
      "  df = df.append(df_temp)\n"
     ]
    },
    {
     "name": "stdout",
     "output_type": "stream",
     "text": [
      "1239.JPG\n",
      "1240.JPG\n",
      "1241.JPG\n",
      "1242.JPG\n",
      "1243.JPG\n"
     ]
    },
    {
     "name": "stderr",
     "output_type": "stream",
     "text": [
      "C:\\Users\\Yogesh\\AppData\\Local\\Temp\\ipykernel_4204\\2996257243.py:47: FutureWarning: The frame.append method is deprecated and will be removed from pandas in a future version. Use pandas.concat instead.\n",
      "  df = df.append(df_temp)\n",
      "C:\\Users\\Yogesh\\AppData\\Local\\Temp\\ipykernel_4204\\2996257243.py:47: FutureWarning: The frame.append method is deprecated and will be removed from pandas in a future version. Use pandas.concat instead.\n",
      "  df = df.append(df_temp)\n",
      "C:\\Users\\Yogesh\\AppData\\Local\\Temp\\ipykernel_4204\\2996257243.py:47: FutureWarning: The frame.append method is deprecated and will be removed from pandas in a future version. Use pandas.concat instead.\n",
      "  df = df.append(df_temp)\n",
      "C:\\Users\\Yogesh\\AppData\\Local\\Temp\\ipykernel_4204\\2996257243.py:47: FutureWarning: The frame.append method is deprecated and will be removed from pandas in a future version. Use pandas.concat instead.\n",
      "  df = df.append(df_temp)\n",
      "C:\\Users\\Yogesh\\AppData\\Local\\Temp\\ipykernel_4204\\2996257243.py:47: FutureWarning: The frame.append method is deprecated and will be removed from pandas in a future version. Use pandas.concat instead.\n",
      "  df = df.append(df_temp)\n"
     ]
    },
    {
     "name": "stdout",
     "output_type": "stream",
     "text": [
      "1244.JPG\n",
      "1245.JPG\n",
      "1246.JPG\n",
      "1247.JPG\n",
      "1248.JPG\n"
     ]
    },
    {
     "name": "stderr",
     "output_type": "stream",
     "text": [
      "C:\\Users\\Yogesh\\AppData\\Local\\Temp\\ipykernel_4204\\2996257243.py:47: FutureWarning: The frame.append method is deprecated and will be removed from pandas in a future version. Use pandas.concat instead.\n",
      "  df = df.append(df_temp)\n",
      "C:\\Users\\Yogesh\\AppData\\Local\\Temp\\ipykernel_4204\\2996257243.py:47: FutureWarning: The frame.append method is deprecated and will be removed from pandas in a future version. Use pandas.concat instead.\n",
      "  df = df.append(df_temp)\n",
      "C:\\Users\\Yogesh\\AppData\\Local\\Temp\\ipykernel_4204\\2996257243.py:47: FutureWarning: The frame.append method is deprecated and will be removed from pandas in a future version. Use pandas.concat instead.\n",
      "  df = df.append(df_temp)\n",
      "C:\\Users\\Yogesh\\AppData\\Local\\Temp\\ipykernel_4204\\2996257243.py:47: FutureWarning: The frame.append method is deprecated and will be removed from pandas in a future version. Use pandas.concat instead.\n",
      "  df = df.append(df_temp)\n",
      "C:\\Users\\Yogesh\\AppData\\Local\\Temp\\ipykernel_4204\\2996257243.py:47: FutureWarning: The frame.append method is deprecated and will be removed from pandas in a future version. Use pandas.concat instead.\n",
      "  df = df.append(df_temp)\n"
     ]
    },
    {
     "name": "stdout",
     "output_type": "stream",
     "text": [
      "1249.JPG\n",
      "1250.JPG\n",
      "1251.JPG\n",
      "1252.JPG\n",
      "1253.JPG\n"
     ]
    },
    {
     "name": "stderr",
     "output_type": "stream",
     "text": [
      "C:\\Users\\Yogesh\\AppData\\Local\\Temp\\ipykernel_4204\\2996257243.py:47: FutureWarning: The frame.append method is deprecated and will be removed from pandas in a future version. Use pandas.concat instead.\n",
      "  df = df.append(df_temp)\n",
      "C:\\Users\\Yogesh\\AppData\\Local\\Temp\\ipykernel_4204\\2996257243.py:47: FutureWarning: The frame.append method is deprecated and will be removed from pandas in a future version. Use pandas.concat instead.\n",
      "  df = df.append(df_temp)\n",
      "C:\\Users\\Yogesh\\AppData\\Local\\Temp\\ipykernel_4204\\2996257243.py:47: FutureWarning: The frame.append method is deprecated and will be removed from pandas in a future version. Use pandas.concat instead.\n",
      "  df = df.append(df_temp)\n",
      "C:\\Users\\Yogesh\\AppData\\Local\\Temp\\ipykernel_4204\\2996257243.py:47: FutureWarning: The frame.append method is deprecated and will be removed from pandas in a future version. Use pandas.concat instead.\n",
      "  df = df.append(df_temp)\n",
      "C:\\Users\\Yogesh\\AppData\\Local\\Temp\\ipykernel_4204\\2996257243.py:47: FutureWarning: The frame.append method is deprecated and will be removed from pandas in a future version. Use pandas.concat instead.\n",
      "  df = df.append(df_temp)\n"
     ]
    },
    {
     "name": "stdout",
     "output_type": "stream",
     "text": [
      "1254.JPG\n",
      "1255.JPG\n",
      "1256.JPG\n",
      "1257.JPG\n",
      "1258.JPG\n"
     ]
    },
    {
     "name": "stderr",
     "output_type": "stream",
     "text": [
      "C:\\Users\\Yogesh\\AppData\\Local\\Temp\\ipykernel_4204\\2996257243.py:47: FutureWarning: The frame.append method is deprecated and will be removed from pandas in a future version. Use pandas.concat instead.\n",
      "  df = df.append(df_temp)\n",
      "C:\\Users\\Yogesh\\AppData\\Local\\Temp\\ipykernel_4204\\2996257243.py:47: FutureWarning: The frame.append method is deprecated and will be removed from pandas in a future version. Use pandas.concat instead.\n",
      "  df = df.append(df_temp)\n",
      "C:\\Users\\Yogesh\\AppData\\Local\\Temp\\ipykernel_4204\\2996257243.py:47: FutureWarning: The frame.append method is deprecated and will be removed from pandas in a future version. Use pandas.concat instead.\n",
      "  df = df.append(df_temp)\n",
      "C:\\Users\\Yogesh\\AppData\\Local\\Temp\\ipykernel_4204\\2996257243.py:47: FutureWarning: The frame.append method is deprecated and will be removed from pandas in a future version. Use pandas.concat instead.\n",
      "  df = df.append(df_temp)\n",
      "C:\\Users\\Yogesh\\AppData\\Local\\Temp\\ipykernel_4204\\2996257243.py:47: FutureWarning: The frame.append method is deprecated and will be removed from pandas in a future version. Use pandas.concat instead.\n",
      "  df = df.append(df_temp)\n"
     ]
    },
    {
     "name": "stdout",
     "output_type": "stream",
     "text": [
      "1259.JPG\n",
      "1260.JPG\n",
      "1261.JPG\n",
      "1262.JPG\n"
     ]
    },
    {
     "name": "stderr",
     "output_type": "stream",
     "text": [
      "C:\\Users\\Yogesh\\AppData\\Local\\Temp\\ipykernel_4204\\2996257243.py:47: FutureWarning: The frame.append method is deprecated and will be removed from pandas in a future version. Use pandas.concat instead.\n",
      "  df = df.append(df_temp)\n",
      "C:\\Users\\Yogesh\\AppData\\Local\\Temp\\ipykernel_4204\\2996257243.py:47: FutureWarning: The frame.append method is deprecated and will be removed from pandas in a future version. Use pandas.concat instead.\n",
      "  df = df.append(df_temp)\n",
      "C:\\Users\\Yogesh\\AppData\\Local\\Temp\\ipykernel_4204\\2996257243.py:47: FutureWarning: The frame.append method is deprecated and will be removed from pandas in a future version. Use pandas.concat instead.\n",
      "  df = df.append(df_temp)\n",
      "C:\\Users\\Yogesh\\AppData\\Local\\Temp\\ipykernel_4204\\2996257243.py:47: FutureWarning: The frame.append method is deprecated and will be removed from pandas in a future version. Use pandas.concat instead.\n",
      "  df = df.append(df_temp)\n",
      "C:\\Users\\Yogesh\\AppData\\Local\\Temp\\ipykernel_4204\\2996257243.py:47: FutureWarning: The frame.append method is deprecated and will be removed from pandas in a future version. Use pandas.concat instead.\n",
      "  df = df.append(df_temp)\n"
     ]
    },
    {
     "name": "stdout",
     "output_type": "stream",
     "text": [
      "1263.JPG\n",
      "1264.JPG\n",
      "1265.JPG\n",
      "1266.JPG\n"
     ]
    },
    {
     "name": "stderr",
     "output_type": "stream",
     "text": [
      "C:\\Users\\Yogesh\\AppData\\Local\\Temp\\ipykernel_4204\\2996257243.py:47: FutureWarning: The frame.append method is deprecated and will be removed from pandas in a future version. Use pandas.concat instead.\n",
      "  df = df.append(df_temp)\n",
      "C:\\Users\\Yogesh\\AppData\\Local\\Temp\\ipykernel_4204\\2996257243.py:47: FutureWarning: The frame.append method is deprecated and will be removed from pandas in a future version. Use pandas.concat instead.\n",
      "  df = df.append(df_temp)\n",
      "C:\\Users\\Yogesh\\AppData\\Local\\Temp\\ipykernel_4204\\2996257243.py:47: FutureWarning: The frame.append method is deprecated and will be removed from pandas in a future version. Use pandas.concat instead.\n",
      "  df = df.append(df_temp)\n",
      "C:\\Users\\Yogesh\\AppData\\Local\\Temp\\ipykernel_4204\\2996257243.py:47: FutureWarning: The frame.append method is deprecated and will be removed from pandas in a future version. Use pandas.concat instead.\n",
      "  df = df.append(df_temp)\n",
      "C:\\Users\\Yogesh\\AppData\\Local\\Temp\\ipykernel_4204\\2996257243.py:47: FutureWarning: The frame.append method is deprecated and will be removed from pandas in a future version. Use pandas.concat instead.\n",
      "  df = df.append(df_temp)\n"
     ]
    },
    {
     "name": "stdout",
     "output_type": "stream",
     "text": [
      "1267.JPG\n",
      "1268.JPG\n",
      "1269.JPG\n",
      "1270.JPG\n",
      "1271.JPG\n"
     ]
    },
    {
     "name": "stderr",
     "output_type": "stream",
     "text": [
      "C:\\Users\\Yogesh\\AppData\\Local\\Temp\\ipykernel_4204\\2996257243.py:47: FutureWarning: The frame.append method is deprecated and will be removed from pandas in a future version. Use pandas.concat instead.\n",
      "  df = df.append(df_temp)\n",
      "C:\\Users\\Yogesh\\AppData\\Local\\Temp\\ipykernel_4204\\2996257243.py:47: FutureWarning: The frame.append method is deprecated and will be removed from pandas in a future version. Use pandas.concat instead.\n",
      "  df = df.append(df_temp)\n",
      "C:\\Users\\Yogesh\\AppData\\Local\\Temp\\ipykernel_4204\\2996257243.py:47: FutureWarning: The frame.append method is deprecated and will be removed from pandas in a future version. Use pandas.concat instead.\n",
      "  df = df.append(df_temp)\n",
      "C:\\Users\\Yogesh\\AppData\\Local\\Temp\\ipykernel_4204\\2996257243.py:47: FutureWarning: The frame.append method is deprecated and will be removed from pandas in a future version. Use pandas.concat instead.\n",
      "  df = df.append(df_temp)\n",
      "C:\\Users\\Yogesh\\AppData\\Local\\Temp\\ipykernel_4204\\2996257243.py:47: FutureWarning: The frame.append method is deprecated and will be removed from pandas in a future version. Use pandas.concat instead.\n",
      "  df = df.append(df_temp)\n"
     ]
    },
    {
     "name": "stdout",
     "output_type": "stream",
     "text": [
      "1272.JPG\n",
      "1273.JPG\n",
      "1274.JPG\n",
      "1275.JPG\n"
     ]
    },
    {
     "name": "stderr",
     "output_type": "stream",
     "text": [
      "C:\\Users\\Yogesh\\AppData\\Local\\Temp\\ipykernel_4204\\2996257243.py:47: FutureWarning: The frame.append method is deprecated and will be removed from pandas in a future version. Use pandas.concat instead.\n",
      "  df = df.append(df_temp)\n",
      "C:\\Users\\Yogesh\\AppData\\Local\\Temp\\ipykernel_4204\\2996257243.py:47: FutureWarning: The frame.append method is deprecated and will be removed from pandas in a future version. Use pandas.concat instead.\n",
      "  df = df.append(df_temp)\n",
      "C:\\Users\\Yogesh\\AppData\\Local\\Temp\\ipykernel_4204\\2996257243.py:47: FutureWarning: The frame.append method is deprecated and will be removed from pandas in a future version. Use pandas.concat instead.\n",
      "  df = df.append(df_temp)\n",
      "C:\\Users\\Yogesh\\AppData\\Local\\Temp\\ipykernel_4204\\2996257243.py:47: FutureWarning: The frame.append method is deprecated and will be removed from pandas in a future version. Use pandas.concat instead.\n",
      "  df = df.append(df_temp)\n",
      "C:\\Users\\Yogesh\\AppData\\Local\\Temp\\ipykernel_4204\\2996257243.py:47: FutureWarning: The frame.append method is deprecated and will be removed from pandas in a future version. Use pandas.concat instead.\n",
      "  df = df.append(df_temp)\n"
     ]
    },
    {
     "name": "stdout",
     "output_type": "stream",
     "text": [
      "1276.JPG\n",
      "1277.JPG\n",
      "1278.JPG\n",
      "1279.JPG\n"
     ]
    },
    {
     "name": "stderr",
     "output_type": "stream",
     "text": [
      "C:\\Users\\Yogesh\\AppData\\Local\\Temp\\ipykernel_4204\\2996257243.py:47: FutureWarning: The frame.append method is deprecated and will be removed from pandas in a future version. Use pandas.concat instead.\n",
      "  df = df.append(df_temp)\n",
      "C:\\Users\\Yogesh\\AppData\\Local\\Temp\\ipykernel_4204\\2996257243.py:47: FutureWarning: The frame.append method is deprecated and will be removed from pandas in a future version. Use pandas.concat instead.\n",
      "  df = df.append(df_temp)\n",
      "C:\\Users\\Yogesh\\AppData\\Local\\Temp\\ipykernel_4204\\2996257243.py:47: FutureWarning: The frame.append method is deprecated and will be removed from pandas in a future version. Use pandas.concat instead.\n",
      "  df = df.append(df_temp)\n",
      "C:\\Users\\Yogesh\\AppData\\Local\\Temp\\ipykernel_4204\\2996257243.py:47: FutureWarning: The frame.append method is deprecated and will be removed from pandas in a future version. Use pandas.concat instead.\n",
      "  df = df.append(df_temp)\n"
     ]
    },
    {
     "name": "stdout",
     "output_type": "stream",
     "text": [
      "1280.JPG\n",
      "1281.JPG\n",
      "1282.JPG\n",
      "1283.JPG\n"
     ]
    },
    {
     "name": "stderr",
     "output_type": "stream",
     "text": [
      "C:\\Users\\Yogesh\\AppData\\Local\\Temp\\ipykernel_4204\\2996257243.py:47: FutureWarning: The frame.append method is deprecated and will be removed from pandas in a future version. Use pandas.concat instead.\n",
      "  df = df.append(df_temp)\n",
      "C:\\Users\\Yogesh\\AppData\\Local\\Temp\\ipykernel_4204\\2996257243.py:47: FutureWarning: The frame.append method is deprecated and will be removed from pandas in a future version. Use pandas.concat instead.\n",
      "  df = df.append(df_temp)\n",
      "C:\\Users\\Yogesh\\AppData\\Local\\Temp\\ipykernel_4204\\2996257243.py:47: FutureWarning: The frame.append method is deprecated and will be removed from pandas in a future version. Use pandas.concat instead.\n",
      "  df = df.append(df_temp)\n",
      "C:\\Users\\Yogesh\\AppData\\Local\\Temp\\ipykernel_4204\\2996257243.py:47: FutureWarning: The frame.append method is deprecated and will be removed from pandas in a future version. Use pandas.concat instead.\n",
      "  df = df.append(df_temp)\n",
      "C:\\Users\\Yogesh\\AppData\\Local\\Temp\\ipykernel_4204\\2996257243.py:47: FutureWarning: The frame.append method is deprecated and will be removed from pandas in a future version. Use pandas.concat instead.\n",
      "  df = df.append(df_temp)\n"
     ]
    },
    {
     "name": "stdout",
     "output_type": "stream",
     "text": [
      "1284.JPG\n",
      "1285.JPG\n",
      "1286.JPG\n",
      "1287.JPG\n",
      "1288.JPG\n",
      "1289.JPG\n",
      "1290.JPG\n",
      "1291.JPG\n"
     ]
    },
    {
     "name": "stderr",
     "output_type": "stream",
     "text": [
      "C:\\Users\\Yogesh\\AppData\\Local\\Temp\\ipykernel_4204\\2996257243.py:47: FutureWarning: The frame.append method is deprecated and will be removed from pandas in a future version. Use pandas.concat instead.\n",
      "  df = df.append(df_temp)\n",
      "C:\\Users\\Yogesh\\AppData\\Local\\Temp\\ipykernel_4204\\2996257243.py:47: FutureWarning: The frame.append method is deprecated and will be removed from pandas in a future version. Use pandas.concat instead.\n",
      "  df = df.append(df_temp)\n",
      "C:\\Users\\Yogesh\\AppData\\Local\\Temp\\ipykernel_4204\\2996257243.py:47: FutureWarning: The frame.append method is deprecated and will be removed from pandas in a future version. Use pandas.concat instead.\n",
      "  df = df.append(df_temp)\n",
      "C:\\Users\\Yogesh\\AppData\\Local\\Temp\\ipykernel_4204\\2996257243.py:47: FutureWarning: The frame.append method is deprecated and will be removed from pandas in a future version. Use pandas.concat instead.\n",
      "  df = df.append(df_temp)\n"
     ]
    },
    {
     "name": "stdout",
     "output_type": "stream",
     "text": [
      "1292.JPG\n",
      "1293.JPG\n",
      "1294.JPG\n",
      "1295.JPG\n"
     ]
    },
    {
     "name": "stderr",
     "output_type": "stream",
     "text": [
      "C:\\Users\\Yogesh\\AppData\\Local\\Temp\\ipykernel_4204\\2996257243.py:47: FutureWarning: The frame.append method is deprecated and will be removed from pandas in a future version. Use pandas.concat instead.\n",
      "  df = df.append(df_temp)\n",
      "C:\\Users\\Yogesh\\AppData\\Local\\Temp\\ipykernel_4204\\2996257243.py:47: FutureWarning: The frame.append method is deprecated and will be removed from pandas in a future version. Use pandas.concat instead.\n",
      "  df = df.append(df_temp)\n",
      "C:\\Users\\Yogesh\\AppData\\Local\\Temp\\ipykernel_4204\\2996257243.py:47: FutureWarning: The frame.append method is deprecated and will be removed from pandas in a future version. Use pandas.concat instead.\n",
      "  df = df.append(df_temp)\n",
      "C:\\Users\\Yogesh\\AppData\\Local\\Temp\\ipykernel_4204\\2996257243.py:47: FutureWarning: The frame.append method is deprecated and will be removed from pandas in a future version. Use pandas.concat instead.\n",
      "  df = df.append(df_temp)\n",
      "C:\\Users\\Yogesh\\AppData\\Local\\Temp\\ipykernel_4204\\2996257243.py:47: FutureWarning: The frame.append method is deprecated and will be removed from pandas in a future version. Use pandas.concat instead.\n",
      "  df = df.append(df_temp)\n"
     ]
    },
    {
     "name": "stdout",
     "output_type": "stream",
     "text": [
      "1296.JPG\n",
      "1297.JPG\n",
      "1298.JPG\n",
      "1299.JPG\n"
     ]
    },
    {
     "name": "stderr",
     "output_type": "stream",
     "text": [
      "C:\\Users\\Yogesh\\AppData\\Local\\Temp\\ipykernel_4204\\2996257243.py:47: FutureWarning: The frame.append method is deprecated and will be removed from pandas in a future version. Use pandas.concat instead.\n",
      "  df = df.append(df_temp)\n",
      "C:\\Users\\Yogesh\\AppData\\Local\\Temp\\ipykernel_4204\\2996257243.py:47: FutureWarning: The frame.append method is deprecated and will be removed from pandas in a future version. Use pandas.concat instead.\n",
      "  df = df.append(df_temp)\n",
      "C:\\Users\\Yogesh\\AppData\\Local\\Temp\\ipykernel_4204\\2996257243.py:47: FutureWarning: The frame.append method is deprecated and will be removed from pandas in a future version. Use pandas.concat instead.\n",
      "  df = df.append(df_temp)\n",
      "C:\\Users\\Yogesh\\AppData\\Local\\Temp\\ipykernel_4204\\2996257243.py:47: FutureWarning: The frame.append method is deprecated and will be removed from pandas in a future version. Use pandas.concat instead.\n",
      "  df = df.append(df_temp)\n",
      "C:\\Users\\Yogesh\\AppData\\Local\\Temp\\ipykernel_4204\\2996257243.py:47: FutureWarning: The frame.append method is deprecated and will be removed from pandas in a future version. Use pandas.concat instead.\n",
      "  df = df.append(df_temp)\n"
     ]
    },
    {
     "name": "stdout",
     "output_type": "stream",
     "text": [
      "1300.JPG\n",
      "1301.JPG\n",
      "1302.JPG\n",
      "1303.JPG\n"
     ]
    },
    {
     "name": "stderr",
     "output_type": "stream",
     "text": [
      "C:\\Users\\Yogesh\\AppData\\Local\\Temp\\ipykernel_4204\\2996257243.py:47: FutureWarning: The frame.append method is deprecated and will be removed from pandas in a future version. Use pandas.concat instead.\n",
      "  df = df.append(df_temp)\n",
      "C:\\Users\\Yogesh\\AppData\\Local\\Temp\\ipykernel_4204\\2996257243.py:47: FutureWarning: The frame.append method is deprecated and will be removed from pandas in a future version. Use pandas.concat instead.\n",
      "  df = df.append(df_temp)\n",
      "C:\\Users\\Yogesh\\AppData\\Local\\Temp\\ipykernel_4204\\2996257243.py:47: FutureWarning: The frame.append method is deprecated and will be removed from pandas in a future version. Use pandas.concat instead.\n",
      "  df = df.append(df_temp)\n",
      "C:\\Users\\Yogesh\\AppData\\Local\\Temp\\ipykernel_4204\\2996257243.py:47: FutureWarning: The frame.append method is deprecated and will be removed from pandas in a future version. Use pandas.concat instead.\n",
      "  df = df.append(df_temp)\n",
      "C:\\Users\\Yogesh\\AppData\\Local\\Temp\\ipykernel_4204\\2996257243.py:47: FutureWarning: The frame.append method is deprecated and will be removed from pandas in a future version. Use pandas.concat instead.\n",
      "  df = df.append(df_temp)\n"
     ]
    },
    {
     "name": "stdout",
     "output_type": "stream",
     "text": [
      "1304.JPG\n",
      "1305.JPG\n",
      "1306.JPG\n",
      "1307.JPG\n"
     ]
    },
    {
     "name": "stderr",
     "output_type": "stream",
     "text": [
      "C:\\Users\\Yogesh\\AppData\\Local\\Temp\\ipykernel_4204\\2996257243.py:47: FutureWarning: The frame.append method is deprecated and will be removed from pandas in a future version. Use pandas.concat instead.\n",
      "  df = df.append(df_temp)\n",
      "C:\\Users\\Yogesh\\AppData\\Local\\Temp\\ipykernel_4204\\2996257243.py:47: FutureWarning: The frame.append method is deprecated and will be removed from pandas in a future version. Use pandas.concat instead.\n",
      "  df = df.append(df_temp)\n",
      "C:\\Users\\Yogesh\\AppData\\Local\\Temp\\ipykernel_4204\\2996257243.py:47: FutureWarning: The frame.append method is deprecated and will be removed from pandas in a future version. Use pandas.concat instead.\n",
      "  df = df.append(df_temp)\n",
      "C:\\Users\\Yogesh\\AppData\\Local\\Temp\\ipykernel_4204\\2996257243.py:47: FutureWarning: The frame.append method is deprecated and will be removed from pandas in a future version. Use pandas.concat instead.\n",
      "  df = df.append(df_temp)\n",
      "C:\\Users\\Yogesh\\AppData\\Local\\Temp\\ipykernel_4204\\2996257243.py:47: FutureWarning: The frame.append method is deprecated and will be removed from pandas in a future version. Use pandas.concat instead.\n",
      "  df = df.append(df_temp)\n",
      "C:\\Users\\Yogesh\\AppData\\Local\\Temp\\ipykernel_4204\\2996257243.py:47: FutureWarning: The frame.append method is deprecated and will be removed from pandas in a future version. Use pandas.concat instead.\n",
      "  df = df.append(df_temp)\n"
     ]
    },
    {
     "name": "stdout",
     "output_type": "stream",
     "text": [
      "1308.JPG\n",
      "1309.JPG\n",
      "1310.JPG\n",
      "1311.JPG\n",
      "1312.JPG\n",
      "1313.JPG\n",
      "1314.JPG\n",
      "1315.JPG\n",
      "1316.JPG\n",
      "1317.JPG\n"
     ]
    },
    {
     "name": "stderr",
     "output_type": "stream",
     "text": [
      "C:\\Users\\Yogesh\\AppData\\Local\\Temp\\ipykernel_4204\\2996257243.py:47: FutureWarning: The frame.append method is deprecated and will be removed from pandas in a future version. Use pandas.concat instead.\n",
      "  df = df.append(df_temp)\n",
      "C:\\Users\\Yogesh\\AppData\\Local\\Temp\\ipykernel_4204\\2996257243.py:47: FutureWarning: The frame.append method is deprecated and will be removed from pandas in a future version. Use pandas.concat instead.\n",
      "  df = df.append(df_temp)\n",
      "C:\\Users\\Yogesh\\AppData\\Local\\Temp\\ipykernel_4204\\2996257243.py:47: FutureWarning: The frame.append method is deprecated and will be removed from pandas in a future version. Use pandas.concat instead.\n",
      "  df = df.append(df_temp)\n",
      "C:\\Users\\Yogesh\\AppData\\Local\\Temp\\ipykernel_4204\\2996257243.py:47: FutureWarning: The frame.append method is deprecated and will be removed from pandas in a future version. Use pandas.concat instead.\n",
      "  df = df.append(df_temp)\n",
      "C:\\Users\\Yogesh\\AppData\\Local\\Temp\\ipykernel_4204\\2996257243.py:47: FutureWarning: The frame.append method is deprecated and will be removed from pandas in a future version. Use pandas.concat instead.\n",
      "  df = df.append(df_temp)\n"
     ]
    },
    {
     "name": "stdout",
     "output_type": "stream",
     "text": [
      "1318.JPG\n",
      "1319.JPG\n",
      "1320.JPG\n",
      "1321.JPG\n",
      "1322.JPG\n"
     ]
    },
    {
     "name": "stderr",
     "output_type": "stream",
     "text": [
      "C:\\Users\\Yogesh\\AppData\\Local\\Temp\\ipykernel_4204\\2996257243.py:47: FutureWarning: The frame.append method is deprecated and will be removed from pandas in a future version. Use pandas.concat instead.\n",
      "  df = df.append(df_temp)\n",
      "C:\\Users\\Yogesh\\AppData\\Local\\Temp\\ipykernel_4204\\2996257243.py:47: FutureWarning: The frame.append method is deprecated and will be removed from pandas in a future version. Use pandas.concat instead.\n",
      "  df = df.append(df_temp)\n",
      "C:\\Users\\Yogesh\\AppData\\Local\\Temp\\ipykernel_4204\\2996257243.py:47: FutureWarning: The frame.append method is deprecated and will be removed from pandas in a future version. Use pandas.concat instead.\n",
      "  df = df.append(df_temp)\n",
      "C:\\Users\\Yogesh\\AppData\\Local\\Temp\\ipykernel_4204\\2996257243.py:47: FutureWarning: The frame.append method is deprecated and will be removed from pandas in a future version. Use pandas.concat instead.\n",
      "  df = df.append(df_temp)\n",
      "C:\\Users\\Yogesh\\AppData\\Local\\Temp\\ipykernel_4204\\2996257243.py:47: FutureWarning: The frame.append method is deprecated and will be removed from pandas in a future version. Use pandas.concat instead.\n",
      "  df = df.append(df_temp)\n"
     ]
    },
    {
     "name": "stdout",
     "output_type": "stream",
     "text": [
      "1323.JPG\n",
      "1324.JPG\n",
      "1325.JPG\n",
      "1326.JPG\n",
      "1327.JPG\n"
     ]
    },
    {
     "name": "stderr",
     "output_type": "stream",
     "text": [
      "C:\\Users\\Yogesh\\AppData\\Local\\Temp\\ipykernel_4204\\2996257243.py:47: FutureWarning: The frame.append method is deprecated and will be removed from pandas in a future version. Use pandas.concat instead.\n",
      "  df = df.append(df_temp)\n",
      "C:\\Users\\Yogesh\\AppData\\Local\\Temp\\ipykernel_4204\\2996257243.py:47: FutureWarning: The frame.append method is deprecated and will be removed from pandas in a future version. Use pandas.concat instead.\n",
      "  df = df.append(df_temp)\n",
      "C:\\Users\\Yogesh\\AppData\\Local\\Temp\\ipykernel_4204\\2996257243.py:47: FutureWarning: The frame.append method is deprecated and will be removed from pandas in a future version. Use pandas.concat instead.\n",
      "  df = df.append(df_temp)\n",
      "C:\\Users\\Yogesh\\AppData\\Local\\Temp\\ipykernel_4204\\2996257243.py:47: FutureWarning: The frame.append method is deprecated and will be removed from pandas in a future version. Use pandas.concat instead.\n",
      "  df = df.append(df_temp)\n",
      "C:\\Users\\Yogesh\\AppData\\Local\\Temp\\ipykernel_4204\\2996257243.py:47: FutureWarning: The frame.append method is deprecated and will be removed from pandas in a future version. Use pandas.concat instead.\n",
      "  df = df.append(df_temp)\n",
      "C:\\Users\\Yogesh\\AppData\\Local\\Temp\\ipykernel_4204\\2996257243.py:47: FutureWarning: The frame.append method is deprecated and will be removed from pandas in a future version. Use pandas.concat instead.\n",
      "  df = df.append(df_temp)\n"
     ]
    },
    {
     "name": "stdout",
     "output_type": "stream",
     "text": [
      "1328.JPG\n",
      "1329.JPG\n",
      "1330.JPG\n",
      "1331.JPG\n",
      "1332.JPG\n"
     ]
    },
    {
     "name": "stderr",
     "output_type": "stream",
     "text": [
      "C:\\Users\\Yogesh\\AppData\\Local\\Temp\\ipykernel_4204\\2996257243.py:47: FutureWarning: The frame.append method is deprecated and will be removed from pandas in a future version. Use pandas.concat instead.\n",
      "  df = df.append(df_temp)\n",
      "C:\\Users\\Yogesh\\AppData\\Local\\Temp\\ipykernel_4204\\2996257243.py:47: FutureWarning: The frame.append method is deprecated and will be removed from pandas in a future version. Use pandas.concat instead.\n",
      "  df = df.append(df_temp)\n",
      "C:\\Users\\Yogesh\\AppData\\Local\\Temp\\ipykernel_4204\\2996257243.py:47: FutureWarning: The frame.append method is deprecated and will be removed from pandas in a future version. Use pandas.concat instead.\n",
      "  df = df.append(df_temp)\n",
      "C:\\Users\\Yogesh\\AppData\\Local\\Temp\\ipykernel_4204\\2996257243.py:47: FutureWarning: The frame.append method is deprecated and will be removed from pandas in a future version. Use pandas.concat instead.\n",
      "  df = df.append(df_temp)\n",
      "C:\\Users\\Yogesh\\AppData\\Local\\Temp\\ipykernel_4204\\2996257243.py:47: FutureWarning: The frame.append method is deprecated and will be removed from pandas in a future version. Use pandas.concat instead.\n",
      "  df = df.append(df_temp)\n",
      "C:\\Users\\Yogesh\\AppData\\Local\\Temp\\ipykernel_4204\\2996257243.py:47: FutureWarning: The frame.append method is deprecated and will be removed from pandas in a future version. Use pandas.concat instead.\n",
      "  df = df.append(df_temp)\n"
     ]
    },
    {
     "name": "stdout",
     "output_type": "stream",
     "text": [
      "1333.JPG\n",
      "1334.JPG\n",
      "1335.JPG\n",
      "1336.JPG\n",
      "1337.JPG\n"
     ]
    },
    {
     "name": "stderr",
     "output_type": "stream",
     "text": [
      "C:\\Users\\Yogesh\\AppData\\Local\\Temp\\ipykernel_4204\\2996257243.py:47: FutureWarning: The frame.append method is deprecated and will be removed from pandas in a future version. Use pandas.concat instead.\n",
      "  df = df.append(df_temp)\n",
      "C:\\Users\\Yogesh\\AppData\\Local\\Temp\\ipykernel_4204\\2996257243.py:47: FutureWarning: The frame.append method is deprecated and will be removed from pandas in a future version. Use pandas.concat instead.\n",
      "  df = df.append(df_temp)\n",
      "C:\\Users\\Yogesh\\AppData\\Local\\Temp\\ipykernel_4204\\2996257243.py:47: FutureWarning: The frame.append method is deprecated and will be removed from pandas in a future version. Use pandas.concat instead.\n",
      "  df = df.append(df_temp)\n",
      "C:\\Users\\Yogesh\\AppData\\Local\\Temp\\ipykernel_4204\\2996257243.py:47: FutureWarning: The frame.append method is deprecated and will be removed from pandas in a future version. Use pandas.concat instead.\n",
      "  df = df.append(df_temp)\n",
      "C:\\Users\\Yogesh\\AppData\\Local\\Temp\\ipykernel_4204\\2996257243.py:47: FutureWarning: The frame.append method is deprecated and will be removed from pandas in a future version. Use pandas.concat instead.\n",
      "  df = df.append(df_temp)\n"
     ]
    },
    {
     "name": "stdout",
     "output_type": "stream",
     "text": [
      "1338.JPG\n",
      "1339.JPG\n",
      "1340.JPG\n",
      "1341.JPG\n",
      "1342.JPG\n"
     ]
    },
    {
     "name": "stderr",
     "output_type": "stream",
     "text": [
      "C:\\Users\\Yogesh\\AppData\\Local\\Temp\\ipykernel_4204\\2996257243.py:47: FutureWarning: The frame.append method is deprecated and will be removed from pandas in a future version. Use pandas.concat instead.\n",
      "  df = df.append(df_temp)\n",
      "C:\\Users\\Yogesh\\AppData\\Local\\Temp\\ipykernel_4204\\2996257243.py:47: FutureWarning: The frame.append method is deprecated and will be removed from pandas in a future version. Use pandas.concat instead.\n",
      "  df = df.append(df_temp)\n",
      "C:\\Users\\Yogesh\\AppData\\Local\\Temp\\ipykernel_4204\\2996257243.py:47: FutureWarning: The frame.append method is deprecated and will be removed from pandas in a future version. Use pandas.concat instead.\n",
      "  df = df.append(df_temp)\n",
      "C:\\Users\\Yogesh\\AppData\\Local\\Temp\\ipykernel_4204\\2996257243.py:47: FutureWarning: The frame.append method is deprecated and will be removed from pandas in a future version. Use pandas.concat instead.\n",
      "  df = df.append(df_temp)\n",
      "C:\\Users\\Yogesh\\AppData\\Local\\Temp\\ipykernel_4204\\2996257243.py:47: FutureWarning: The frame.append method is deprecated and will be removed from pandas in a future version. Use pandas.concat instead.\n",
      "  df = df.append(df_temp)\n"
     ]
    },
    {
     "name": "stdout",
     "output_type": "stream",
     "text": [
      "1343.JPG\n",
      "1344.JPG\n",
      "1345.JPG\n",
      "1346.JPG\n",
      "1347.JPG\n"
     ]
    },
    {
     "name": "stderr",
     "output_type": "stream",
     "text": [
      "C:\\Users\\Yogesh\\AppData\\Local\\Temp\\ipykernel_4204\\2996257243.py:47: FutureWarning: The frame.append method is deprecated and will be removed from pandas in a future version. Use pandas.concat instead.\n",
      "  df = df.append(df_temp)\n",
      "C:\\Users\\Yogesh\\AppData\\Local\\Temp\\ipykernel_4204\\2996257243.py:47: FutureWarning: The frame.append method is deprecated and will be removed from pandas in a future version. Use pandas.concat instead.\n",
      "  df = df.append(df_temp)\n",
      "C:\\Users\\Yogesh\\AppData\\Local\\Temp\\ipykernel_4204\\2996257243.py:47: FutureWarning: The frame.append method is deprecated and will be removed from pandas in a future version. Use pandas.concat instead.\n",
      "  df = df.append(df_temp)\n",
      "C:\\Users\\Yogesh\\AppData\\Local\\Temp\\ipykernel_4204\\2996257243.py:47: FutureWarning: The frame.append method is deprecated and will be removed from pandas in a future version. Use pandas.concat instead.\n",
      "  df = df.append(df_temp)\n",
      "C:\\Users\\Yogesh\\AppData\\Local\\Temp\\ipykernel_4204\\2996257243.py:47: FutureWarning: The frame.append method is deprecated and will be removed from pandas in a future version. Use pandas.concat instead.\n",
      "  df = df.append(df_temp)\n"
     ]
    },
    {
     "name": "stdout",
     "output_type": "stream",
     "text": [
      "1348.JPG\n",
      "1349.JPG\n",
      "1350.JPG\n",
      "1351.JPG\n",
      "1352.JPG\n"
     ]
    },
    {
     "name": "stderr",
     "output_type": "stream",
     "text": [
      "C:\\Users\\Yogesh\\AppData\\Local\\Temp\\ipykernel_4204\\2996257243.py:47: FutureWarning: The frame.append method is deprecated and will be removed from pandas in a future version. Use pandas.concat instead.\n",
      "  df = df.append(df_temp)\n",
      "C:\\Users\\Yogesh\\AppData\\Local\\Temp\\ipykernel_4204\\2996257243.py:47: FutureWarning: The frame.append method is deprecated and will be removed from pandas in a future version. Use pandas.concat instead.\n",
      "  df = df.append(df_temp)\n",
      "C:\\Users\\Yogesh\\AppData\\Local\\Temp\\ipykernel_4204\\2996257243.py:47: FutureWarning: The frame.append method is deprecated and will be removed from pandas in a future version. Use pandas.concat instead.\n",
      "  df = df.append(df_temp)\n",
      "C:\\Users\\Yogesh\\AppData\\Local\\Temp\\ipykernel_4204\\2996257243.py:47: FutureWarning: The frame.append method is deprecated and will be removed from pandas in a future version. Use pandas.concat instead.\n",
      "  df = df.append(df_temp)\n",
      "C:\\Users\\Yogesh\\AppData\\Local\\Temp\\ipykernel_4204\\2996257243.py:47: FutureWarning: The frame.append method is deprecated and will be removed from pandas in a future version. Use pandas.concat instead.\n",
      "  df = df.append(df_temp)\n"
     ]
    },
    {
     "name": "stdout",
     "output_type": "stream",
     "text": [
      "1353.JPG\n",
      "1354.JPG\n",
      "1355.JPG\n",
      "1356.JPG\n"
     ]
    },
    {
     "name": "stderr",
     "output_type": "stream",
     "text": [
      "C:\\Users\\Yogesh\\AppData\\Local\\Temp\\ipykernel_4204\\2996257243.py:47: FutureWarning: The frame.append method is deprecated and will be removed from pandas in a future version. Use pandas.concat instead.\n",
      "  df = df.append(df_temp)\n",
      "C:\\Users\\Yogesh\\AppData\\Local\\Temp\\ipykernel_4204\\2996257243.py:47: FutureWarning: The frame.append method is deprecated and will be removed from pandas in a future version. Use pandas.concat instead.\n",
      "  df = df.append(df_temp)\n",
      "C:\\Users\\Yogesh\\AppData\\Local\\Temp\\ipykernel_4204\\2996257243.py:47: FutureWarning: The frame.append method is deprecated and will be removed from pandas in a future version. Use pandas.concat instead.\n",
      "  df = df.append(df_temp)\n",
      "C:\\Users\\Yogesh\\AppData\\Local\\Temp\\ipykernel_4204\\2996257243.py:47: FutureWarning: The frame.append method is deprecated and will be removed from pandas in a future version. Use pandas.concat instead.\n",
      "  df = df.append(df_temp)\n",
      "C:\\Users\\Yogesh\\AppData\\Local\\Temp\\ipykernel_4204\\2996257243.py:47: FutureWarning: The frame.append method is deprecated and will be removed from pandas in a future version. Use pandas.concat instead.\n",
      "  df = df.append(df_temp)\n"
     ]
    },
    {
     "name": "stdout",
     "output_type": "stream",
     "text": [
      "1357.JPG\n",
      "1358.JPG\n",
      "1359.JPG\n",
      "1360.JPG\n",
      "1361.JPG\n"
     ]
    },
    {
     "name": "stderr",
     "output_type": "stream",
     "text": [
      "C:\\Users\\Yogesh\\AppData\\Local\\Temp\\ipykernel_4204\\2996257243.py:47: FutureWarning: The frame.append method is deprecated and will be removed from pandas in a future version. Use pandas.concat instead.\n",
      "  df = df.append(df_temp)\n",
      "C:\\Users\\Yogesh\\AppData\\Local\\Temp\\ipykernel_4204\\2996257243.py:47: FutureWarning: The frame.append method is deprecated and will be removed from pandas in a future version. Use pandas.concat instead.\n",
      "  df = df.append(df_temp)\n",
      "C:\\Users\\Yogesh\\AppData\\Local\\Temp\\ipykernel_4204\\2996257243.py:47: FutureWarning: The frame.append method is deprecated and will be removed from pandas in a future version. Use pandas.concat instead.\n",
      "  df = df.append(df_temp)\n",
      "C:\\Users\\Yogesh\\AppData\\Local\\Temp\\ipykernel_4204\\2996257243.py:47: FutureWarning: The frame.append method is deprecated and will be removed from pandas in a future version. Use pandas.concat instead.\n",
      "  df = df.append(df_temp)\n",
      "C:\\Users\\Yogesh\\AppData\\Local\\Temp\\ipykernel_4204\\2996257243.py:47: FutureWarning: The frame.append method is deprecated and will be removed from pandas in a future version. Use pandas.concat instead.\n",
      "  df = df.append(df_temp)\n",
      "C:\\Users\\Yogesh\\AppData\\Local\\Temp\\ipykernel_4204\\2996257243.py:47: FutureWarning: The frame.append method is deprecated and will be removed from pandas in a future version. Use pandas.concat instead.\n",
      "  df = df.append(df_temp)\n"
     ]
    },
    {
     "name": "stdout",
     "output_type": "stream",
     "text": [
      "1362.JPG\n",
      "1363.JPG\n",
      "1364.JPG\n",
      "1365.JPG\n",
      "1366.JPG\n"
     ]
    },
    {
     "name": "stderr",
     "output_type": "stream",
     "text": [
      "C:\\Users\\Yogesh\\AppData\\Local\\Temp\\ipykernel_4204\\2996257243.py:47: FutureWarning: The frame.append method is deprecated and will be removed from pandas in a future version. Use pandas.concat instead.\n",
      "  df = df.append(df_temp)\n",
      "C:\\Users\\Yogesh\\AppData\\Local\\Temp\\ipykernel_4204\\2996257243.py:47: FutureWarning: The frame.append method is deprecated and will be removed from pandas in a future version. Use pandas.concat instead.\n",
      "  df = df.append(df_temp)\n",
      "C:\\Users\\Yogesh\\AppData\\Local\\Temp\\ipykernel_4204\\2996257243.py:47: FutureWarning: The frame.append method is deprecated and will be removed from pandas in a future version. Use pandas.concat instead.\n",
      "  df = df.append(df_temp)\n",
      "C:\\Users\\Yogesh\\AppData\\Local\\Temp\\ipykernel_4204\\2996257243.py:47: FutureWarning: The frame.append method is deprecated and will be removed from pandas in a future version. Use pandas.concat instead.\n",
      "  df = df.append(df_temp)\n",
      "C:\\Users\\Yogesh\\AppData\\Local\\Temp\\ipykernel_4204\\2996257243.py:47: FutureWarning: The frame.append method is deprecated and will be removed from pandas in a future version. Use pandas.concat instead.\n",
      "  df = df.append(df_temp)\n",
      "C:\\Users\\Yogesh\\AppData\\Local\\Temp\\ipykernel_4204\\2996257243.py:47: FutureWarning: The frame.append method is deprecated and will be removed from pandas in a future version. Use pandas.concat instead.\n",
      "  df = df.append(df_temp)\n"
     ]
    },
    {
     "name": "stdout",
     "output_type": "stream",
     "text": [
      "1367.JPG\n",
      "1368.JPG\n",
      "1369.JPG\n",
      "1370.JPG\n",
      "1371.JPG\n",
      "1372.JPG\n",
      "1373.JPG\n",
      "1374.JPG\n",
      "1375.JPG\n",
      "1376.JPG\n"
     ]
    },
    {
     "name": "stderr",
     "output_type": "stream",
     "text": [
      "C:\\Users\\Yogesh\\AppData\\Local\\Temp\\ipykernel_4204\\2996257243.py:47: FutureWarning: The frame.append method is deprecated and will be removed from pandas in a future version. Use pandas.concat instead.\n",
      "  df = df.append(df_temp)\n",
      "C:\\Users\\Yogesh\\AppData\\Local\\Temp\\ipykernel_4204\\2996257243.py:47: FutureWarning: The frame.append method is deprecated and will be removed from pandas in a future version. Use pandas.concat instead.\n",
      "  df = df.append(df_temp)\n",
      "C:\\Users\\Yogesh\\AppData\\Local\\Temp\\ipykernel_4204\\2996257243.py:47: FutureWarning: The frame.append method is deprecated and will be removed from pandas in a future version. Use pandas.concat instead.\n",
      "  df = df.append(df_temp)\n",
      "C:\\Users\\Yogesh\\AppData\\Local\\Temp\\ipykernel_4204\\2996257243.py:47: FutureWarning: The frame.append method is deprecated and will be removed from pandas in a future version. Use pandas.concat instead.\n",
      "  df = df.append(df_temp)\n",
      "C:\\Users\\Yogesh\\AppData\\Local\\Temp\\ipykernel_4204\\2996257243.py:47: FutureWarning: The frame.append method is deprecated and will be removed from pandas in a future version. Use pandas.concat instead.\n",
      "  df = df.append(df_temp)\n",
      "C:\\Users\\Yogesh\\AppData\\Local\\Temp\\ipykernel_4204\\2996257243.py:47: FutureWarning: The frame.append method is deprecated and will be removed from pandas in a future version. Use pandas.concat instead.\n",
      "  df = df.append(df_temp)\n"
     ]
    },
    {
     "name": "stdout",
     "output_type": "stream",
     "text": [
      "1377.JPG\n",
      "1378.JPG\n",
      "1379.JPG\n",
      "1380.JPG\n"
     ]
    },
    {
     "name": "stderr",
     "output_type": "stream",
     "text": [
      "C:\\Users\\Yogesh\\AppData\\Local\\Temp\\ipykernel_4204\\2996257243.py:47: FutureWarning: The frame.append method is deprecated and will be removed from pandas in a future version. Use pandas.concat instead.\n",
      "  df = df.append(df_temp)\n",
      "C:\\Users\\Yogesh\\AppData\\Local\\Temp\\ipykernel_4204\\2996257243.py:47: FutureWarning: The frame.append method is deprecated and will be removed from pandas in a future version. Use pandas.concat instead.\n",
      "  df = df.append(df_temp)\n",
      "C:\\Users\\Yogesh\\AppData\\Local\\Temp\\ipykernel_4204\\2996257243.py:47: FutureWarning: The frame.append method is deprecated and will be removed from pandas in a future version. Use pandas.concat instead.\n",
      "  df = df.append(df_temp)\n",
      "C:\\Users\\Yogesh\\AppData\\Local\\Temp\\ipykernel_4204\\2996257243.py:47: FutureWarning: The frame.append method is deprecated and will be removed from pandas in a future version. Use pandas.concat instead.\n",
      "  df = df.append(df_temp)\n",
      "C:\\Users\\Yogesh\\AppData\\Local\\Temp\\ipykernel_4204\\2996257243.py:47: FutureWarning: The frame.append method is deprecated and will be removed from pandas in a future version. Use pandas.concat instead.\n",
      "  df = df.append(df_temp)\n"
     ]
    },
    {
     "name": "stdout",
     "output_type": "stream",
     "text": [
      "1381.JPG\n",
      "1382.JPG\n",
      "1383.JPG\n",
      "1384.JPG\n"
     ]
    },
    {
     "name": "stderr",
     "output_type": "stream",
     "text": [
      "C:\\Users\\Yogesh\\AppData\\Local\\Temp\\ipykernel_4204\\2996257243.py:47: FutureWarning: The frame.append method is deprecated and will be removed from pandas in a future version. Use pandas.concat instead.\n",
      "  df = df.append(df_temp)\n",
      "C:\\Users\\Yogesh\\AppData\\Local\\Temp\\ipykernel_4204\\2996257243.py:47: FutureWarning: The frame.append method is deprecated and will be removed from pandas in a future version. Use pandas.concat instead.\n",
      "  df = df.append(df_temp)\n",
      "C:\\Users\\Yogesh\\AppData\\Local\\Temp\\ipykernel_4204\\2996257243.py:47: FutureWarning: The frame.append method is deprecated and will be removed from pandas in a future version. Use pandas.concat instead.\n",
      "  df = df.append(df_temp)\n",
      "C:\\Users\\Yogesh\\AppData\\Local\\Temp\\ipykernel_4204\\2996257243.py:47: FutureWarning: The frame.append method is deprecated and will be removed from pandas in a future version. Use pandas.concat instead.\n",
      "  df = df.append(df_temp)\n"
     ]
    },
    {
     "name": "stdout",
     "output_type": "stream",
     "text": [
      "1385.JPG\n",
      "1386.JPG\n",
      "1387.JPG\n",
      "1389.JPG\n",
      "1390.JPG\n"
     ]
    },
    {
     "name": "stderr",
     "output_type": "stream",
     "text": [
      "C:\\Users\\Yogesh\\AppData\\Local\\Temp\\ipykernel_4204\\2996257243.py:47: FutureWarning: The frame.append method is deprecated and will be removed from pandas in a future version. Use pandas.concat instead.\n",
      "  df = df.append(df_temp)\n",
      "C:\\Users\\Yogesh\\AppData\\Local\\Temp\\ipykernel_4204\\2996257243.py:47: FutureWarning: The frame.append method is deprecated and will be removed from pandas in a future version. Use pandas.concat instead.\n",
      "  df = df.append(df_temp)\n",
      "C:\\Users\\Yogesh\\AppData\\Local\\Temp\\ipykernel_4204\\2996257243.py:47: FutureWarning: The frame.append method is deprecated and will be removed from pandas in a future version. Use pandas.concat instead.\n",
      "  df = df.append(df_temp)\n",
      "C:\\Users\\Yogesh\\AppData\\Local\\Temp\\ipykernel_4204\\2996257243.py:47: FutureWarning: The frame.append method is deprecated and will be removed from pandas in a future version. Use pandas.concat instead.\n",
      "  df = df.append(df_temp)\n",
      "C:\\Users\\Yogesh\\AppData\\Local\\Temp\\ipykernel_4204\\2996257243.py:47: FutureWarning: The frame.append method is deprecated and will be removed from pandas in a future version. Use pandas.concat instead.\n",
      "  df = df.append(df_temp)\n",
      "C:\\Users\\Yogesh\\AppData\\Local\\Temp\\ipykernel_4204\\2996257243.py:47: FutureWarning: The frame.append method is deprecated and will be removed from pandas in a future version. Use pandas.concat instead.\n",
      "  df = df.append(df_temp)\n"
     ]
    },
    {
     "name": "stdout",
     "output_type": "stream",
     "text": [
      "1391.JPG\n",
      "1392.JPG\n",
      "1393.JPG\n",
      "1394.JPG\n",
      "1395.JPG\n"
     ]
    },
    {
     "name": "stderr",
     "output_type": "stream",
     "text": [
      "C:\\Users\\Yogesh\\AppData\\Local\\Temp\\ipykernel_4204\\2996257243.py:47: FutureWarning: The frame.append method is deprecated and will be removed from pandas in a future version. Use pandas.concat instead.\n",
      "  df = df.append(df_temp)\n",
      "C:\\Users\\Yogesh\\AppData\\Local\\Temp\\ipykernel_4204\\2996257243.py:47: FutureWarning: The frame.append method is deprecated and will be removed from pandas in a future version. Use pandas.concat instead.\n",
      "  df = df.append(df_temp)\n",
      "C:\\Users\\Yogesh\\AppData\\Local\\Temp\\ipykernel_4204\\2996257243.py:47: FutureWarning: The frame.append method is deprecated and will be removed from pandas in a future version. Use pandas.concat instead.\n",
      "  df = df.append(df_temp)\n",
      "C:\\Users\\Yogesh\\AppData\\Local\\Temp\\ipykernel_4204\\2996257243.py:47: FutureWarning: The frame.append method is deprecated and will be removed from pandas in a future version. Use pandas.concat instead.\n",
      "  df = df.append(df_temp)\n"
     ]
    },
    {
     "name": "stdout",
     "output_type": "stream",
     "text": [
      "1396.JPG\n",
      "1397.JPG\n",
      "1398.JPG\n",
      "1399.JPG\n",
      "1400.JPG\n",
      "1401.JPG\n"
     ]
    },
    {
     "name": "stderr",
     "output_type": "stream",
     "text": [
      "C:\\Users\\Yogesh\\AppData\\Local\\Temp\\ipykernel_4204\\2996257243.py:47: FutureWarning: The frame.append method is deprecated and will be removed from pandas in a future version. Use pandas.concat instead.\n",
      "  df = df.append(df_temp)\n",
      "C:\\Users\\Yogesh\\AppData\\Local\\Temp\\ipykernel_4204\\2996257243.py:47: FutureWarning: The frame.append method is deprecated and will be removed from pandas in a future version. Use pandas.concat instead.\n",
      "  df = df.append(df_temp)\n",
      "C:\\Users\\Yogesh\\AppData\\Local\\Temp\\ipykernel_4204\\2996257243.py:47: FutureWarning: The frame.append method is deprecated and will be removed from pandas in a future version. Use pandas.concat instead.\n",
      "  df = df.append(df_temp)\n"
     ]
    }
   ],
   "source": [
    "dataset = create_dataset()"
   ]
  },
  {
   "cell_type": "code",
   "execution_count": 9,
   "metadata": {},
   "outputs": [
    {
     "data": {
      "text/plain": [
       "(400, 10)"
      ]
     },
     "execution_count": 9,
     "metadata": {},
     "output_type": "execute_result"
    }
   ],
   "source": [
    "dataset.shape"
   ]
  },
  {
   "cell_type": "code",
   "execution_count": 10,
   "metadata": {},
   "outputs": [
    {
     "data": {
      "text/plain": [
       "pandas.core.frame.DataFrame"
      ]
     },
     "execution_count": 10,
     "metadata": {},
     "output_type": "execute_result"
    }
   ],
   "source": [
    "type(dataset)"
   ]
  },
  {
   "cell_type": "code",
   "execution_count": 12,
   "metadata": {},
   "outputs": [],
   "source": [
    "dataset.to_csv(\"Flavia_extracted.csv\")"
   ]
  },
  {
   "cell_type": "code",
   "execution_count": null,
   "metadata": {},
   "outputs": [],
   "source": []
  }
 ],
 "metadata": {
  "kernelspec": {
   "display_name": "Python 3 (ipykernel)",
   "language": "python",
   "name": "python3"
  },
  "language_info": {
   "codemirror_mode": {
    "name": "ipython",
    "version": 3
   },
   "file_extension": ".py",
   "mimetype": "text/x-python",
   "name": "python",
   "nbconvert_exporter": "python",
   "pygments_lexer": "ipython3",
   "version": "3.10.4"
  }
 },
 "nbformat": 4,
 "nbformat_minor": 2
}
